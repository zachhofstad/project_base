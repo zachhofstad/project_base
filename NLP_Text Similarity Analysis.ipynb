{
  "nbformat": 4,
  "nbformat_minor": 0,
  "metadata": {
    "colab": {
      "provenance": []
    },
    "kernelspec": {
      "name": "python3",
      "display_name": "Python 3"
    },
    "language_info": {
      "name": "python"
    }
  },
  "cells": [
    {
      "cell_type": "markdown",
      "source": [
        "# Step 1: Preprocessing"
      ],
      "metadata": {
        "id": "wE9czuJb3vZ1"
      }
    },
    {
      "cell_type": "code",
      "execution_count": null,
      "metadata": {
        "id": "vKgIizPv3nGU"
      },
      "outputs": [],
      "source": [
        "import nltk\n",
        "import re\n",
        "import numpy as np\n",
        "import pandas as pd\n",
        "from nltk.corpus import inaugural"
      ]
    },
    {
      "cell_type": "markdown",
      "source": [
        "Tap **Brown Corpus**:"
      ],
      "metadata": {
        "id": "BpqNUKXu6dJ6"
      }
    },
    {
      "cell_type": "code",
      "source": [
        "nltk.download('stopwords')\n",
        "wpt = nltk.WordPunctTokenizer()\n",
        "stop_words = nltk.corpus.stopwords.words('english')"
      ],
      "metadata": {
        "colab": {
          "base_uri": "https://localhost:8080/"
        },
        "id": "rYeqTI-74lv7",
        "outputId": "5e492c64-8053-451d-f095-7d3ba7c62d6f"
      },
      "execution_count": null,
      "outputs": [
        {
          "output_type": "stream",
          "name": "stderr",
          "text": [
            "[nltk_data] Downloading package stopwords to /root/nltk_data...\n",
            "[nltk_data]   Package stopwords is already up-to-date!\n"
          ]
        }
      ]
    },
    {
      "cell_type": "code",
      "source": [
        "import nltk\n",
        "nltk.download('brown')\n",
        "from nltk.corpus import brown"
      ],
      "metadata": {
        "colab": {
          "base_uri": "https://localhost:8080/"
        },
        "id": "Qww9J7Bn5rFj",
        "outputId": "328c108d-b77a-409d-994e-6fe120005924"
      },
      "execution_count": null,
      "outputs": [
        {
          "output_type": "stream",
          "name": "stderr",
          "text": [
            "[nltk_data] Downloading package brown to /root/nltk_data...\n",
            "[nltk_data]   Package brown is already up-to-date!\n"
          ]
        }
      ]
    },
    {
      "cell_type": "code",
      "source": [
        "nltk.corpus.brown.categories()"
      ],
      "metadata": {
        "colab": {
          "base_uri": "https://localhost:8080/"
        },
        "id": "E_wyDGez5rHg",
        "outputId": "f413007a-2e11-4dbd-e203-0236898ff4fd"
      },
      "execution_count": null,
      "outputs": [
        {
          "output_type": "execute_result",
          "data": {
            "text/plain": [
              "['adventure',\n",
              " 'belles_lettres',\n",
              " 'editorial',\n",
              " 'fiction',\n",
              " 'government',\n",
              " 'hobbies',\n",
              " 'humor',\n",
              " 'learned',\n",
              " 'lore',\n",
              " 'mystery',\n",
              " 'news',\n",
              " 'religion',\n",
              " 'reviews',\n",
              " 'romance',\n",
              " 'science_fiction']"
            ]
          },
          "metadata": {},
          "execution_count": 18
        }
      ]
    },
    {
      "cell_type": "markdown",
      "source": [
        "Select 3 files for extraction:\n",
        "\n",
        "\n",
        "*   mystery\n",
        "*   sci-fi\n",
        "*   humor\n",
        "\n"
      ],
      "metadata": {
        "id": "-06G8CZjqUgw"
      }
    },
    {
      "cell_type": "code",
      "source": [
        "extract_1 = brown.words(fileids=['cl13']) # mystery\n",
        "extract_2 = brown.words(fileids=['cm01']) # scifi\n",
        "extract_3 = brown.words(fileids=['cr06']) # humor"
      ],
      "metadata": {
        "id": "TYcXgrt58yYm"
      },
      "execution_count": null,
      "outputs": []
    },
    {
      "cell_type": "code",
      "source": [
        "print(\"length of mystery extract is:\", len(extract_1))\n",
        "print(\"length of scifi extract is:\", len(extract_2))\n",
        "print(\"length of humor extract is:\", len(extract_3))"
      ],
      "metadata": {
        "colab": {
          "base_uri": "https://localhost:8080/"
        },
        "id": "yiGezN4i87LF",
        "outputId": "bcfaaaae-fd25-4dce-8c00-2f8c802af979"
      },
      "execution_count": null,
      "outputs": [
        {
          "output_type": "stream",
          "name": "stdout",
          "text": [
            "length of mystery extract is: 2405\n",
            "length of scifi extract is: 2486\n",
            "length of humor extract is: 2506\n"
          ]
        }
      ]
    },
    {
      "cell_type": "code",
      "source": [
        "extract_1"
      ],
      "metadata": {
        "colab": {
          "base_uri": "https://localhost:8080/"
        },
        "id": "Kp4QrYpb-w7T",
        "outputId": "be39cc3b-f785-42e2-eaf8-61016faffb77"
      },
      "execution_count": null,
      "outputs": [
        {
          "output_type": "execute_result",
          "data": {
            "text/plain": [
              "['His', 'son', 'watched', 'until', 'he', 'got', 'as', ...]"
            ]
          },
          "metadata": {},
          "execution_count": 21
        }
      ]
    },
    {
      "cell_type": "code",
      "source": [
        "extract_1 = ' '.join(brown.words(categories='mystery'))\n",
        "extract_2 = ' '.join(brown.words(categories='science_fiction'))\n",
        "extract_3 = ' '.join(brown.words(categories='humor'))"
      ],
      "metadata": {
        "id": "0f6bdCWXzl-i"
      },
      "execution_count": null,
      "outputs": []
    },
    {
      "cell_type": "markdown",
      "source": [],
      "metadata": {
        "id": "6kSVaTgBRdJU"
      }
    },
    {
      "cell_type": "code",
      "source": [
        "corpus1 = np.array(extract_1)\n",
        "corpus2 = np.array(extract_2)\n",
        "corpus3 = np.array(extract_3)\n",
        "corpus_all = [extract_1, extract_2, extract_3]\n",
        "\n",
        "wpt = nltk.WordPunctTokenizer()\n",
        "stop_words = nltk.corpus.stopwords.words('english')"
      ],
      "metadata": {
        "id": "SkczHR7L9dI7"
      },
      "execution_count": null,
      "outputs": []
    },
    {
      "cell_type": "code",
      "source": [
        "# print(\"length of mystery extract in sentences is:\", len(corpus1))\n",
        "# print(\"length of scifi extract in sentences is:\", len(corpus2))\n",
        "# print(\"length of humor extract in sentences is:\", len(corpus3))"
      ],
      "metadata": {
        "id": "gy2g7ZADDaQZ"
      },
      "execution_count": null,
      "outputs": []
    },
    {
      "cell_type": "markdown",
      "source": [
        "Normalization:\n",
        "* lowercase,\n",
        "* remove punctuation,\n",
        "* create tokens,\n",
        "* remove stopwords"
      ],
      "metadata": {
        "id": "TM1bR38Eqton"
      }
    },
    {
      "cell_type": "code",
      "source": [
        "def normalize_document(doc):\n",
        "    doc = re.sub(r'[^a-zA-Z\\s]', '', doc, re.I|re.A)\n",
        "    doc = doc.lower() # lowercase all characters\n",
        "    doc = doc.strip() # remove whitespace\n",
        "    tokens = wpt.tokenize(doc) # tokenize document\n",
        "    filtered_tokens = [token for token in tokens if token not in stop_words] # filter stopwords out\n",
        "    doc = ' '.join(filtered_tokens) # re-create document from filtered tokens\n",
        "    doc = re.sub(r'[^\\w\\s]', '', doc)\n",
        "    return doc"
      ],
      "metadata": {
        "id": "klUmb_4-_UzS"
      },
      "execution_count": null,
      "outputs": []
    },
    {
      "cell_type": "code",
      "source": [
        "normalize_corpus = np.vectorize(normalize_document)\n",
        "\n",
        "norm_corpus_all = normalize_corpus(corpus_all)"
      ],
      "metadata": {
        "id": "eRZiOtHG_eJ6"
      },
      "execution_count": null,
      "outputs": []
    },
    {
      "cell_type": "code",
      "source": [
        "# print an example of a preprocess sentence:\n",
        "\n",
        "print(\"Example of pre-process sentence from text 1:\",\"\\n\\n\", norm_corpus_all[:1])"
      ],
      "metadata": {
        "colab": {
          "base_uri": "https://localhost:8080/"
        },
        "id": "pIOH3bt5_och",
        "outputId": "368b5414-9303-42c1-dc51-120f61edc5b5"
      },
      "execution_count": null,
      "outputs": [
        {
          "output_type": "stream",
          "name": "stdout",
          "text": [
            "Example of pre-process sentence from text 1: \n",
            "\n",
            " ['thirtyeight patients bus morning left hanover disturbed hallucinating interne nurse two attendants charge us felt lonely depressed stared bus window chicagos grim dirty west side seemed incredible listened monotonous drone voices smelled fetid odors coming patients technically ward state illinois going hospital mentally ill suddenly thought mary jane brennan way pretty eyes could flash anger quiet competence gentleness sweetness lay beneath surface defenses become good friends stay cook county hospital told enough offset somewhat damaging stories appeared local newspapers little adventure marshall field co knew lived good address gold coast medical student thinking returning university finish medical studies knew also unmarried without single known relative wasnt quite sure felt enough remorse drinking would return worried read newspaper stories said must loved girl much couldnt meant said wanted kill say asked full booze well drunk apt anything says hell nonsense grew irish neighborhood chicagos west side dont tell drunks youre kind go violent love girl would make difference mary jane met eyes suddenly angry wouldnt gone nursing didnt care people im interested every patient ive helped take care think people like well mary jane young intelligent whole lifetime make something worth mess whiskey indifference selfdestructive attitudes dont blame girl breaking engagement pretty oh yes said feeling annoyed pretty dont believe im going back medical school finish ive worked ward three months keep getting ones back mean well great promises make go home drinking sickness youve seemed like maybe youve treated stay like big joke joke sent place like hanover wanted go college didnt asked chicago best eyes flashed angrily thats mean anderson said dont seem know much reality ill tell didnt go college im oldest six children fathers policeman makes less seven thousand dollars year money tuition clothes things apparently take granted nurses training doesnt cost anything even pay six dollars month think good deal im going become good nurse ive got two baby brothers going college work profession im old maid give boy friend asked thats none business said changed subject father mother dont think youre place like father mother died two years old said aunt raised aunt mary died military service one worry something voice must touched deeply anger passed quickly turned away keep seeing face im sorry said dont know id without family weve always close  tell   eyes became bright talked father mother  aunts uncles  cousins  listening  felt cheated lonely orphan  finished said   dad sounds like good father good policeman   bet  pleased rumdum like ask daughter date  mean   hospital  month    father sergeant detectives attached homicide five years   pretty good judge character  anderson   think  mind much sure  decided rumdum future      would feel ask date get hanover     thought serious going back school   learned something experiences hanover  well  might consider offer  girl going kill    suddenly seemed important mary jane brennan know truth  confused  sick  irresponsible person believed   things  tell  mary jane   said    go dinner get hanover   like tell whole story  say   dead serious going back school  girl  let  say never want see  get come home long weekends hanover       yes   get one overnight month     go edgewater beach hotel dinner   said   like dance   always good orchestra    like dance   said  turned walked away   anything really personal interest  knew  felt deeply every patient ward wanted believe might benefit treatment   riding hospital bus  feeling isolated utterly alone  knew genuine unique  quite unlike girl known  seemed important thing life moment know real truth  fantastic story  two people state illinois knew entering hanover state hospital assumed name   unlikely girl sharp mary jane brennan would believe without proof  proof  documented legal agreement would show moment free  bus turned main highway headed toward hanover settled back seat closed eyes  thinking events past two weeks  trying put pieces order  wondered suddenly listened disconnected jabberings coming patient behind  perhaps imagined  perhaps reality dale nelson  actor  delusion   figment carl anderson  imagination  four come chicago new york early september dramatic production called ask tony  bad play  real grade  turkey  prevalence angels grandiose dreams capital gain tax money burn could put rehearsal  one  even producer  real hope getting back broadway  suspense gangster story capone era  many us felt might catch run chicago  continue road company  eventually become movie  optimism completely unjustified  critics literally screamed indignation  ask tony doomed moment kupcinet leveled sun  times column  opened friday closed following monday  entire cast alone received good notices portrayal psychopathic killer  let lot kidding rest company  two members native chicagoans  paid tuesday morning given tickets back new york  felt lonely depressed packed bags croydon hotel  seemed life destined one brilliant failure another  among top third class n   u   wanted desperately go medical school   run money energy time  later quit safe  secure five   week spot network soap opera take part play  seemed unlucky quite stupid well  knew  soon back working orderly hospital counterman union news schraffts waiting another acting job open  suddenly occurred particularly like acting  sort crossroads would decide soon going life  closed last bag stood three door bellboy pick  went bathroom drink water  telephone rang  answered voice dignified british real said   mr  dale nelson  actor     right   said    bastards lay     beg pardon  sir     right  dale nelson actor    good   calling  mr  nelson  request mr  phillip wycoff  could possibly lunch today   car could pick hotel twelve   smiled    send rolls  royce  course     yes  course  mr  nelson   started say something else appropriate  man hung  finally went downstairs bar main lobby cast drowning sorrows untimely passing ask tony  bowed low approached   right  bastards   said   great actor buy drink   laid tenspot bar motioned bartender serve round  returned change doorman came street page  walked   mr  nelson    asked    right    mr  wycoff  car waiting east entrance   followed lobby street  ancient rolls  royce  shiningly impressive day came ship  parked curb  elderly chauffeur  immaculate dark uniform  stood stiffly attention holding open door town car  giving parked cars   oldsmobile license number jyj 114 stall number five   okay   said attendant    let know close deal office building   walked back entrance  gave ticket agency car parked  back ten minutes   forgot get something car   told  showing ticket  started say something walked suddenly grinned said   oh  yes   one talking monthly rental    right   told  consulted parking ticket  looked notation said    third row back toward rear  find right     sure   told  went back agency car got electric bug  one newest devices electronic shadowing  always keep set car  put new batteries certain  plenty power way walked regular parking stalls stood looking thoughtfully  waited parking attendant busy customer  slipped around back car license number jym 114  attached electronic bug rear bumper walked  attendant waved  one hardest chores detective hanging around city street  trying make inconspicuous  keeping eye entrance office building waiting  first fifteen twenty minutes  possible less interested window displays  people passing   however  person  mind gets fed magnifies disagreeable physical symptoms go sort assignment  want sit  leg muscles back muscles feel weary   conscious fact feet hurt  city pavements hard  waited solid two hours man came office building  came alone   far behind entered parking lot hurried car  attendant recognized said   office      made mind yet   said    sublease  couple  figuring   one one  quite ways  usually curb parking    curb parking undependable annoying  particularly rains   said  kept trying get take money   okay   told    rush right  know car  want drive      one boys get   said    one rules transients  regulars drive cars    make snappy     asked   oh   right   said    going regular   get office building   want lease place way sticks  get business business     grinned  handed couple dollars said   time get parking charge figured  cigar   hurried agency heap  jumped  started motor time see car wanted shadow turn left  held bit trying make left turn  time  made gone  traffic pretty heavy  turned electric bug  signal came loud clear  made time picked within ten blocks  stayed half block behind  letting lots cars keep us  listening steady beep beep beep  fifteen minutes traffic driving turned left   see  electric bugging device gave steady beeps straight ahead  short half beeps car following left  long drawn  beeps turned right  ever got behind  beep turned buzz  turned left soon got signal showing still behind right  signal became buzz knew behind  meant  parked someplace  made big circle located car parked curb front apartment house  found parking place half block away  sat car waited  quarry apartment house two hours  came started driving toward beach  time dark  could get close traffic drop far behind  traffic  lights would giveaway  tried shadow conventional manner  moreover   lost  electronic shadowing device  signal coming loud clear sudden turned buzz  circled block found parking lot high  class restaurant  sat could watch exit realized hungry  sat faint odor charcoal  broiled steaks tantalizing nostrils occasionally catching aroma coffee  man came hour later  drove beach  turned right half mile went swim tan motel  fairly modern motel quite bit electrical display front  remembered peeping tom place  waited man coming office key cabin went register  card man shadowing filled still counter  noticed unit 12 registered name oscar l  palmer wife  giving san francisco address  written license number car transposed last two figures  old dodge still good  ninety  nine times hundred motel manager  check license number plates license number tenant writes    still better even chance  notice transposition numbers  notice  thing passed honest mistake  used alias robert c  richards  gave first three letters first last figure license number agency heap  couple phony numbers  could written anything  manager motel woman apparently  care  complying law regard registrations certainly  checking license numbers bothering tenants   mean  alone  mr  richards      right    wife  going join  later      think    expect show   said    better put  wife    formality  know    difference rate    asked     said smiling    ten dollars either way  ice cubes container far end another office  three soft  drink vending machines  joined  anybody  try keep things quiet   like run nice quiet place    thank   told  took another sidelong glance registration card  took key unit 13 given went long enough park car  construction reasonably solid   like cracker  box construction many motel units stucco outside walls thin enough hear every movement people adjoining apartment  put small electric amplifier wall side wanted case  aid could hear man moving around  heard cough couple times  heard toilet flush  heard sound water running  whoever companion going  going join later  knew come   telephone  hungry stomach felt lines communication severed   one thing go without food  occupied work  simply postponing meal   dependent someone else know  eat  bedded night  hunger gnawing torture  noticed drive  road quarter mile  batteries bugging device put car still fresh enough send good strong signals  powerful microphone could press wall motel unit occupied man would bring sound conversation  positively nauseated hungry  got car  drove drive  ordered couple hamburgers everything included  cup coffee fastest service possible  place  particularly busy time night  girl waiting  clothed tightest  fitting pair slacks ever seen woman sweater showed everything  lots  wanted sociable   really hurry  handsome    asked    hurry  beautiful     early evening hurry   lots time left    may women left   said  gave little pout said    get work eleven  clock   evening commences     ten  fifty  five   said   oh     announced    say   thing going buzz  buzz  buzz car    said  darn   automatic signal shows ignition key   turn   reached switched electronic bugging device  went get hamburgers  switched device kept signal dowling  car coming steady clear saw starting back hamburgers  shut device  wanted hang around eating    think  selfish dinner go pick       said    kindness  see   diet   eat pineapple cottage cheese salad  one  feel place    diets terrible   girl said   much overweight     bit   said    keeping figure hand   looked provocatively   good figures kept hand   said  walked away exaggerated wiggle  turned device  half fearful might find silence  buzzes came loud clear  switched lights come get check  exact change plus dollar tip  fat man said   gotta go around corner   gun moved  thin man said     way     second building right     says police right door     even dumb take us  could still find   roberta dave began back toward door  thin man waved gun  said   right around corner    says water works  policeman duty     night policeman like states  know     canada  much juvenile delinquency problem  keep night policeman account crazy tourists   door  dave paused feel latch  roberta glanced husband  going sensible try anything rash gun pointed  measured distance stood men gun  measured distance men back room  decided risk  something phony gun waving  something quite seemed detailed directions finding police  dave latch thumb removed arm wife order pull door open  flash away back  paying attention three angry shouts male throats  tore open back door  dark inside room enough light spilled restaurant behind enable make round table green cloth top  small sideboard empty beer bottles perhaps fifteen wooden chairs  slowly turned face men  rat  face counter feet  distance stood dave waited outside door hundred miles  keeping frightened gaze men counter  began feel way door  sidled along booths one step time  gun followed  reached dave felt arm go around  felt pull safety person  knew certainty despair something bad happened lauren  two men watched dave closed door behind  watched cross sidewalk car  getting light  fat man removed apron  put greasy wrinkled jacket  zipped paunch  thin man moved swiftly phone dialed number  answered  said   albert   vince   sending couple customers  yeah  get hair keep   give damn tell   believe word say   make trouble stop   care  one thing  cate  cafe closed eleven like always last night rose clarence corsi left quebec yesterday  shrine  think called saint simon   yeah  yesterday  got    turned phone strode front restaurant  white buick  moved away yet  good  line worry formed  twitch pulled mouth one side  said   grosse    kidding  kid  know name town      kidding  vince  could   musta walking sleep  seen    howda know     remember looked barney held door   kinda like zombie   waking found garage   vince swore   stupid fools   got enough brains two   grosse muttered  head  one hand playing zipper jacket    enough brains call ya ya could sompin parents  coulda let go go   eyes lowered   seen narrow  pointed face companion suddenly writhe fury   aware  knew vince steiner one men work fury prove dangerous could  curse  vince seized thing nearest  glass sugar container spouted metal top  threw wall opposite  heavy glass  break  top flew   sugar sprayed hiss loud silence  really startled  careful appear  grosse sucked noisily pipe  vince cursed steadily   everything happen    grosse quietly got broom started sweep sugar  vince watched  mouth worked profanity  obscenities vocabulary  said    n hell  look back seat car drove    barney ever use brains    fat man  answer  got one menus brushed spilled sugar onto carried box floor behind counter  returned menu place catchup bottle paper napkin dispenser  spoke soothingly    know nothing cars  thinks  ordinary garage    know  stupid   put cate  gun back    know   grosse tucked gun counter    one word gets guardino     telling guardino    vince swore   get kid rose  house   fat man winced  ran finger cheek  tracing scratch    leave locked tool crib    thin man stopped pacing long enough glance clock   barney get rose  gets light  guardino  left   dump kid somewhere near border kin get home  god help knows    grosse spread hands   going day   tool crib  get away    hell care day   get guardino  see start asking questions   grosse swore   dammit  vince   baby sitter   vince shouted finally   get rose   come see stays put   grosse rubbed bridge nose swollen  spoke sullenly    hafta get nasty  wish luck try scaring kid   suddenly grinned  voice lost sullen tones chuckled   got one question       impatiently   poor dumb canadian smart aleck states    vince lifted hand strike  thin lips spread smile  grosse ducked sniggered    say born     chicago slum like   going back account one lousy kid   lauren landis rubbed face blanket  cried little frightened  could easily understand two men startled find strange girl back seat car  figured    understand subsequent actions  shown panic   could blame   one thing awaken outside restaurant parents eating quite another awaken strange garage know parents gone home without  glad fat man left  barney really frightening  jumped little man appeared window  reaching opening  offered bottle coke  smiled wetly  although found thirsty  refuse  never  never take candy strange man  saw bottle unopened  placed bottle opener counter   understood panic  blew nose tissue opened coke bottle  icy cold tasted delicious  felt lift spirit  finished pushed back  man busy something inside door  frame driver  side car  called softly   barney   looked direction  answer  said   barney  keeping    still answer  seemed looking point little window  lauren said    call home   borrow money someone go home bus   could send money right back   barney finished cigarette smoking  dropped carefully ground nothing sole heavy shoe  looked  said   work   lauren said   please    back work car  dropped head arms counter  could kind one moment cruel next   know something made feel sad sorry   afraid anything definite releasing   heart thumping painfully   unknown much worse  dangers lay ahead   awful thing face next hours   something wet hot trickling wrists  tears   sturdy act turned mind away   long could nothing constructive situation  would think something else  mother father  instance    mind followed white buick along road somewhere niagara river  father  attention would road ahead  deviate inch crossed bridge falls took river road lasalle  finally  turned driveway 387 heather heights  would yawn stretch shout    end line   would mother right   mother would fast asleep curled wonderful  big  safe  solid shoulder next front seat  lauren landis trouble alone  roberta landis put hand husband  arm slid driver  seat beside  somewhere birds sweetly calling  answered  teeth chattered made three attempts speech became intelligible   dave  saw woman  apron behind door  wet spot   gone long   dave made sound meant convey agreement  inserted car key lock  roberta violently trembling  stammered   heard said police    drive around corner    car door crashed shut  engine throbbed life  dave said   got message   going   roberta said    go  walk  suppose lauren comes looking us   sit car walk around corner   big car sprang away curb like something alive  said    going leave wife car sight   roberta glanced stopped trembling  jowls spiked barbs graying beard  small  mean eyes regarded marty steadily  unblinkingly  eyes threaded little filaments red tiny veins burst flooded blood  chewed gum exuded wheezing breath  marty smelt reek bad whiskey  marty recognized man  driven car passed road outside admassy  place  acey squire  proprietor juke joint  marty smiled squire pleasantly said   cab waiting  know might gone    squire chewed gum  jaw moving steady rhythm  looked straight marty  answer  marty scanned faces others nearest  looked staring eyes   anyone see cab    asked  keeping voice casual  avoided showing surprise annoyance one answered   get back jarrodsville   went   see cars  wonder one gentlemen could drive back town    happy pay favor  course   seventeen men stood stared moment longer  startling thing occurred  utterly unexpected marty stood several moments mouth hanging open foolishly happened  word spoken  apparent signal given  yet men moved instant  piled waiting cars  motors roared  cars sped  station wagon old plymouth headed east toward jarrodsville  ford pickup truck sped west toward sanford  run  seconds four cars sight  marty land stood alone red  clay road storm clouds gathered ominously sky  great distance thunder growled broke silence  land looked back toward dilapidated house  thought saw pale face window  perhaps dora may  perhaps would glad  hurt  farmhouses nearby  across road one hundred yards away  another side  little  many jarrodsville  telephone poles lined road  reared tall mocking  wires stretched infinity  single strand wire reached silent houses beside red  clay road  nothing could walk  jarrodsville three miles away  old dirt road rain turned quagmire  marty faced east started walking left side road  proceeded feet  paused turned cuffs trousers  already damp mud  caked  viscous mud ankle  deep  places great puddles spread across road reflected murky light  approached first farmhouse  thunder sounded behind  closer louder  like steadily advancing drum corps  several people porch farmhouse  old man young woman brood children ranging toddlers teen  agers  instant thought appealing help  perhaps car truck would drive town  realized utter futility idea  staring blank menacing way men outside gate stared  even eyes smallest children seemed malicious  side road two farm hands  well back field  leaning plow    stared  drums thunder right behind  foolish thought came head  remembered story read youth  probably one kipling  tales british army  concerned officer disgraced drummed  steady roll drums sounded behind walked endless ranks men commanded  man  faced turned back officer approached  marty wished poor farm people would turn backs  fencing roadside ended  dirt highway bordered either side fairly deep drainage ditch  broad leap unless olympic star  day  rain added stagnant water  trapped road heard sound approaching car  coming toward  car sight  marty  heart skipped beat recognized  station wagon passed cab road  station wagon parked burch farm  acey squire  station wagon  headed back toward jarrodsville  ruse lure deserted road  acey friends returning seek  station wagon came stop couple hundred feet front  beside fenced field  another sound  second car coming west  direction sanford  run  ford outside burch  farm  marty looked helplessly directions  narrow road  barely wide enough two cars pass  could leave road water  filled drainage ditch  two cars equidistant  station wagon started ford gathered speed  bore  nothing could except jump ditch  jumped  sank knees muddy water  two cars roared  high  pitched eerie  nerve  shattering sound  marty knew union soldiers must felt chancellorsville antietam gettysburg ragged gray ranks charged  screaming wild banshee howl called rebel yell  moments stood water  shivering gasping breath  turned ankle slightly  pained  cars  load howling men  disappeared distance  two cars parked farm  plymouth pickup truck  would coming next  bearing directions  station wagon ford would seek  would harassed repeatedly would escape death inches time time  way jarrodsville  still three miles go  back east affluent juvenile delinquents  could afford hyped  autos instead switch blades lethal weapons  played game called  chicken   could go fields  way barred sides road high barbed  wire fence  make section road ahead bordered rail fence  section farmhouse  least could climb fence tormenters roared  admassy place could far  would go  climb window  least safe little able rest  even bare chance phone disconnected  dare climb back road  deep water  least could reach  splashed  mud sucking feet step  reached end drainage ditch beginning fence enclosed farm  climbed back road  felt utterly exhausted  stood  panting  moment  saw something seen  panic gripped  fence  refuge metal death came roaring  made rails  right  rails protected thick screening barbed wire would rip flesh pressed  lurched road despairingly  place else go  lost sense dignity  could stand dignity soaked muddied life stake  probably people watching porch behind windows farmhouse   bother look  broke dogtrot  breathing heavily  streaming sweat  reach admassy  place  sanctuary  fences sides road bristled barbed wire  fences stretched endlessly  heard  saw  plymouth coming east  pickup truck west  timed better time  would reach almost exactly instant  stopped stone  still  backed fence  one cars would brush passed  would cruelly lacerated wire  stumbled middle road simply stood  waiting  perfect target  cars must gas pedals pushed floor boards  coming reckless speed old vehicles  thundered  held arms close sides made small possible  plymouth neared  veered toward seemed run  forced stay frozen  moved  would path car  thought fender plymouth brushed jacket went  fraction second pickup truck hurtled side  weird  insane sound rebel yell reverberated echoed distant hills  leave middle road  try run  trudged  aching eyes focused straight ahead  nearing admassy house  going make  told  heard car coming east  felt would break weep   oh     said aloud   soon   new sound  sound piercing rebel yell  yet different  sound siren  saw approaching car painted white  began wave arms frantically  prowl car sheriff  office  car drew alongside stopped   get   charley estes said brusquely  staggered back seat lay back  fighting breath  someone front sheriff  pete holmes  cabdriver  pete turned around said marty   guess think  yellow  bellied hound   use staying   fight dozen  em   stayed   got four punctured tires one busted head   wait burch house   must  known  gone get sheriff  lucky let go  guess   sheriff occupied maneuvering car around narrow space  finally pointed east  said   never come alone  redneck country  every man every one houses night rider  turned telephone rourke  went bedroom change slippers dry socks shoes  rourke talking phone came back   hour  eh   positive    listened moment said   hold   turned head said   alvarez definitely back room jai alai club south beach within hour  want try meet    shayne looked watch   far fifth street  allow make scotty  bar midnight  said satisfaction    fine  tim     rourke confirmed appointment phone hung    know  getting  mike   said unhappily   hope christ   shayne said briskly   grab another drink want   got one call make meet alvarez         northeast section  got car      parked front   rourke hastily slopped whiskey glass top half  melted ice  cubes    better keep driving   shayne decided    going beach  drop back pick mine   went closet get light jacket  took hat beside door  timothy rourke gulped whiskey hastily joined  asking   going call northeast section     lady   maybe much lady  least  want find whether  home yet   opened door followed rourke  rourke  car  shayne drove east biscayne boulevard north toward felice perrin  address given peralta governess  drove  filled timothy rourke briefly events evening leaving reporter go peralta house  surmises   want scotty  bar midnight marsha makes phone call   ended grimly    know whether threatening letter anything situation  want see takes call    deal las putas buenas two knife  men jumped   said rourke interest   sounds like set malice aforethought luscious mrs  peralta         shayne grunted sourly  still able taste mouth green jungle parking lot   story unsigned note directing tonight sounds completely phony  designed put spot  would written peralta ever called case    think laura counterfeit bracelet made without husband  knowledge      faintest idea  think husband strongly suspects   called thing direct defiance confederates almost certainly without telling   felice  street    shayne asked  peering ahead partially obscured street sign  rourke could see better right  hand side  said   yes  turn left  think  number gave  block   shayne got left  hand lane cut across boulevard divider  small  neon  lighted restaurant cocktail lounge southeast corner intersection turned quiet  palm  lined street houses sides older two  story mansions  cut furnished rooms housekeeping apartments  shayne drove westward boulevard slowly  letting rourke crane head window watch street numbers  single automobile parked half  way block left  hand side  shayne noted idly carried miami beach license plates approached  saw flare match front seat passed  indicating occupied  turned see briefly  illumed faces two men parked car rourke said    next house  mike  right   instead pulling curb  shayne increased speed slightly corner swung left  went around corner parked  turning lights motor   told  mike   said rourke aggrieved voice   back   shayne said   know  tim   voice chilling cold   see car parked across street      notice  watching numbers    beach license  tim  two men front seat  got quick look faces went past  unless  crazy hell   two painter  dicks  couple named harris geely  names mean anything     wait minute  mike  painter  office evening   shayne nodded grimly   pair petey officially commending slapping around pulling        stake   suppose  felice perrin  maybe specific orders see  make contact   positive  tim  may wrong   slide walk around block back cocktail lounge biscayne  drive circle back pull beside parked   reporter   looking miss perrin interview  make show hands  beach cops stake    admit reporter   got official standing side bay  soon find geely harris  come around lounge  waiting   shayne opened door side stepped  timothy rourke groaned dismally slid wheel   things talk  mike   shayne chuckled   often add headlines   complain   crossed street walked swiftly southward circle back boulevard north block open restaurant  standing end bar enjoying slug cognac rourke came six eight minutes later  reporter nodded moved beside bar  shayne told bartender   bourbon water   rourke told    two  right  harris geely  made show identification could persuaded call felice perrin   shayne said happily    got worked  tim  take time drink   beat  exactly three minutes  go phone booth behind call police headquarters  excited  identify  say couple drunks hell fight street  better send patrol car  hang fast come walking perrin address   waiting   bartender brought rourke  drink shayne laid twenty  dollar bill bar  said low voice    got date lady  mister  pay pint take  know   added conspiratorial wink   candy dandy  liquor quicker  candy sale anyhow    sure    bartender winked back palmed bill  turned away returned moment pint brandy small paper sack slid counter shayne  detective slid pocket  rourke asked sadly   hell going  mike     make couple punk detectives named geely harris wish god  stayed way afternoon  three minutes  tim   shayne strode blithely  rourke checked watch sipped drink  getting dime ready make telephone call police  outside  shayne hesitated saw rourke parked coupe directly front bar headed south  walked right  hand door  opened got reloaded automatic glove compartment put hip pocket  hoped  forced use taking care beach detectives  weight comforting hip  side bay  miami beach cops legal rights ordinary citizen  shayne  pistol permit good  went swiftly sidewalk toward parked car two beach detectives front seat  tugged brim hat low approached  stepped street behind car strode around right  hand side  big  paunchy man named geely side  half  turned seat toward hatchet  faced companion back partially rested closed door  shayne turned handle jerked door open either men quite aware presence night  geely grunted slid partly  shayne  left arm snaked around neck help  set solidly roadway swung right fist big  gum  chewing jaw geely could straighten  shayne stepped back let slump ground  dived open door harris cursing loudly trying drag gun shoulder holster  somewhat impeded steering wheel  shayne locked big hands around harris  thin neck dragged seat roadway  hit sharp point chin felt body go limp  dropped street couple feet away geely  recumbent figure stared moment kicking big man lightly side   stir  breathing heavily  cold  shayne  think either recognized could describe  got pint liquor pocket unscrewed top  sprinkled pungent stuff liberally men  tossed open bottle front seat  turned   look toward lighted boulevard  saw rourke  tall  emaciated figure come lounge hurriedly start angle across street toward opposite side  shayne strolled across intercept reporter front two  story house felice perrin lived  asked casually   get police okay     sure  said  patrol car fast  let  get inside  happened     two damned fools got excited saw bottle  knocked cold   shayne said good  humoredly    fun explaining miami cops  got business stake  anyway   went onto front porch small hallway dim bulb burned high ceiling  row mailboxes along wall numbers names  shayne found one marked perrin aj  stairway right dark  wall  switch bottom lighted another dim bulb top  went  two front rooms  dark behind transoms  sound light entire house indicate occupants awake  eight  nine steps  roberts paused  mickey paused  waiting  longer impatient  trying think  little planning  looked banister hotel desk  telephone pen set  could call  could check story way   tell roberts  heard  like muffled thud  felt subtle change air pressure  glanced time see roberts hurtling  literally flying air  bloody face twisted  mickey tried flatten banister  gripped one hand  roberts  full weight struck moment groin  gasped air impact tore hand rail  tumbled roberts  helpless agony   steps  wrenching effort  managed hunch draw  take final fall back shoulders rather head  fuzzy mind  moment  helpless lobby floor  conscious  free weight roberts  body  vision cleared saw taller one scrambling upward  reaching  mickey knees roberts turned stairs razor flashed hand  felt empty pocket knew roberts retrieved weapon hand  mickey  eyes fixed  feet  would first betray moment direction attack  rose stiffly  forcing knees lock  knifelike pain groin nearly brought  made back slowly  eyes wary roberts  lose  pain dulled moved  steadied inside  moment extended one hand  fingers curled   come   said   want big fool  hoping   roberts brushed eyes free hand started steps  held razor well one side  invulnerable attack  could handled  mickey knew  could brought make first move  eight feet apart roberts cleared last step  mickey waited slack arms   time  roberts   said   would easier put hands pockets    taunt lost roberts  advanced slowly  directly  giving hint feint either side  short arm  reach stopped  mickey backed two steps  forcing come  fixed grin roberts  face  made hideous swollen nose smeared blood  mickey backed roberts hesitated  came along  moved series rhythmic fits starts  macabre dance  two steps back  two steps forward  two steps back  mickey felt shoulders come wall beside heavy slab front door  going  second  remember keep eye razor  matter  even roberts feint kick groin  deadly hand exclusive concern  kick came  sudden vicious short  mickey  guts twisted effort  kept eye weapon  moved silver arc toward throat  veered downward  hunched left shoulder slashed roberts  forearm  felt blade slide sleeve  roberts could move inside cut upward toward face  slammed right fist roberts  belly  roberts sagged slashed wildly  ducking  mickey tripped fell one side  landing heavily wood floor  roberts  gasping breath couple seconds mickey lost sight blade  felt rip side jacket momentary sting left ribs  got knee roberts  belly  used hands heaved clear  scrambled feet  center lobby  still clutching razor  roberts came crouch  shaking head  charged mickey ready  hit roberts left fist ribs razor cut toward feebly  wobbled mid  air  right fist  nearly weight behind  smashed bloodstained face  roberts careened backward  back arched  fought balance  failing  stumbled newel post foot stairs  sound head striking solid wood ultimate  sudden  end sound  fell side across lowest step  rolled  lay still  mickey found leaning desk  stiff hands  panting breath  minute went roberts  looked one eyes felt pulse   feel  roberts appeared dead   yet  soon  soon  suddenly cold lobby  12 seemed long time passed decided  actually eight ten minutes  sum reasoning came   way take keep two  wister one hired two  finding roberts lamming  local law would hold till check clear back home  maybe  would  could never catch others   way     looked roberts lay sprawled step  mickey sure dead  one thing  thought  nobody knows yet   climbed stairs  went roberts  room  found suitcase packed much could  left things   perfect  roberts wastrel  walking away impulse  might logically leave behind inconvenient carry  closed suitcase found rag moved room  wiping carefully everything might touched  took nearly hour  went room rented got overcoat  left rest things returned lobby  set roberts  suitcase near front door  went outside walked back garage  mildly surprised find snowing  snowed softly  silently  undulating interruption vision night sky  could feel face hair  found key jeep  got started warmed five minutes  backed swung around front drive  went hotel searched till found razor  put pocket safekeeping  took suitcase jeep put front seat  went back roberts  body heavier anticipated  got onto shoulder work carried outside jeep  dumped back made sure  roll  returned porch closed front door  making sure unlocked  drove carefully direction brief tour taken earlier  snowed continuously  quietly  evenly  reached dip woods  saw already earlier ruts barely discernible  jeep fought way low spot got onto higher ground  drove low gear fork road swung close possible entrance abandoned mine  parked facing left headlights  started tunnel suitcase  found illumination extended farther half dozen feet passage  went back got flashlight  returned tunnel carried suitcase edge pit found earlier  tossed bag pit watched dry dust spray around  dust settled  went back jeep carefully worked roberts  body onto shoulder   like carrying suitcase  soft snow deceitful underfoot  twice nearly fell  inside passage  work way fallen timber nearly collapsed clumsy burden  time reached edge pit panting shoulder back ached drag dead weight  stood looking seconds  backed two three paces edge  much weight casually toss away  could feel falling unable get  would bad place die  bad place roberts wind  roberts asked  late worry  knelt slowly dumped corpse onto floor tunnel  relief get rid weight  shaking tension took couple minutes get breath settle  got knees rolled roberts  body toward edge  hung momentarily point dropping  gave strong push  heard slide  tumble dryly hole  got feet threw flashlight beam pit  body lay awkward sprawl twelve fifteen feet level tunnel floor  deep enough  decided  little chance anyone would enter shaft winter  external signs approach would covered snow  probably next day   cold enough tunnel preserve body intact  spring would skeleton  made way back jeep  started back turn remembered razor pocket  climbed  went back tunnel tossed razor pit  landed roberts  sprawled right thigh  poised precariously  slid ground  went back jeep started short drive hotel  garage checked jeep signs use made  stains cleaned  using oiled rag found nail  wiped steering wheel places might touched jeep  replaced flashlight stowed  got car backed garage  tire marks  overlapped others dusty floor would noticeable except close scrutiny  liz peabody  thought  might spend time grieving lost lover  doubted would launch investigation  judged woman pride  though much sense  still would probably sense enough call local sheriff find boy friend  apparently  run away  put call cunningham hotel room  maid answered decided nancy must work  jeb cautioned hopeful  ignoring advice  said excitedly   sound good  woman named lisa tells nobody anything  courtyard picture initials     exactly jumping enthusiasm   call day   highway relaxed enjoyed drive lake pontchartrain along coast  gulf springs ten miles inland  quaint old coast town along beach made garish tourist attractions  checked motel drove downtown  courthouse white  stucco building minus customary dome  instead usual straggling privet hedges patches bare dirt small  town squares  building hemmed semitropical growth camellias azaleas smooth lawn improbably bright  green shade florist  grass  figured best bet call sheriff  clerk outer office took sheriff carruthers  big  paunchy man thick  white hair voice senatorial resonance suggested running higher office  seated front desk  hank said    looking information little go  sheriff   explained background case  ending tenuous clue brought gulf springs  sheriff  swivel chair tilted back    looking woman married man might lived year ago might poisoned  person   afraid got away  pity  know  think best bet go society columns last year see grooms match obituaries little later   tedious job  want try  old newspaper files basement county supervisor  office    maybe society editor would remember good  looking   town bride     idea  mrs  calhoun society editor twenty  five years  editor says marriages may made heaven  weddings made mrs  calhoun  columns   one decides wedding get lead space sunday paper   smiled    editor hospital gallstone operation  mrs  calhoun mother bride went house fought beside bed   sure remember bride vague background   made great scientist dedicated tracking heredity environment   also remember groom died later   stood   wish good luck  please  dig tough case close election  find anything  come back  get started   tracking mrs  calhoun like trying catch paul revere lexington concord  turned also sold real estate  cosmetics  hospital insurance  wearying trek stretched afternoon  newspaper plant insurance office house back newspaper  found five  clock  large woman frizzled gray poodle cut pencil clamped like bit teeth hunted pecked old typewriter  took couple minutes run various businesses get one wanted   last year   well  remember one  baton rouge  married man named vincent black  remember  want picture paper  first bride like  seen twenty  five years    reason give     said breaking  face  sort allergy  none old pictures good enough   see till several days later wedding  face looked like never blemish   course   see well veil    name lisa carmody     hell would remember     never mind  look  still live     think moved away shortly married  salesman something must transferred   sure  files  usually run social note somebody moves away   stood thanked   inherited money something    asked reportorial gleam eye  said vaguely   well  little legal matter  nothing like   hurried across courthouse caught sheriff leaving   sounds like    said hank finished   come  let  hurry lock day   basement sheriff took small  dingy office occupied tall  thin man informal rolled  shirt sleeves   mr  ferrell hirey lindsay  chairman board supervisors  mr  ferrell private detective  hirey  wants look something newspaper files   lock    sure   said hirey    leave door open  latches close  stay long like   carruthers crossed room metal door open grillework top half  pulled open    shut door   open inside  built new jail  used keep prisoners overnight sometimes old jail got crowded  hirey treats lot better prisoners  sight comfortable ones jail cold air hirey  air conditioner coming grille   walked past sheriff windowless room shelves full big  leather  bound volumes floor ceiling around walls  metal table four chairs stood center     back 1865   carruthers told    right smoke  make sure cigarettes leave   course  know take clippings     leave air conditioner  mr  ferrell   said hirey    forget turn close door good  latch   hank thanked promised observe rules  gone  stood minute breathing mustiness old paper leather busily thrumming air conditioner  quite dispel  chapter fourteen tour around stacks  found earliest volumes began left progressed clockwise around room  old weakness burrowing records rose tempt   indeed   almost century  reconstruction moon rockets  pulled away irrelevant old volumes walked around newer ones  last year  volume top couple inches ceiling  near metal ladder casters attached top shelf  pulled  climbed  lifted big volume  almost losing balance weight  staggered dropped table  since mrs  calhoun remembered marriage spring  started plod several months  tried turn right society page one  interesting stories kept cropping distract  last found paper april 2  told little mrs  calhoun remembered  stating small  modest wedding compared others  marked contrast amount information bride groom  mr  black  life open book  speak  birth jackson  mississippi  basketball  playing days l   u  attainment b   degree  presumably prepared career district sales manager peerless business machines  one line bride said miss lisa carmody baton rouge  mention new orleans  hank beginning feel sharp concern mr  black  mrs  black thought  mr  black  peerless selling days might well  exodus gulf springs  time search took twice long  cutting extra reading  pick several columns one  two  line social notes issue  found edition may 15  item said mr  mrs  black moved jackson  home town  lovely lisa year ago  next program call jackson office peerless business machines find vincent black still   specifically  still us  glanced watch  saw seven  decided indulge weakness  next hour scrambled happily ladder  sharing excitement reporters seen mckinley  assassination  iroquois theater fire chicago  hall  mills trial  middle stock market crash  heard slight noise outer office  turned around  saw nothing  decided must mouse  something else distracted  yet sound  tomblike silence  knew sound  lack  air conditioner longer running  jumped turned around see metal door closing  clanged shut sprang toward  pressed face grille       light shining grille dimly illumined office beyond  enough see one  heard outer door closing   hey  come back   shouted  thought must damn janitor cleaning woman puttering around  figuring hirey gone forgotten turn everything lock  faint beginnings fear stirred mind  unless stone  blind  person  left  missed seeing hank open door brightly lighted room  even  somehow missed seeing   gone left light door open file room  whoever meant shut  followed waited till courthouse square deserted    search room motel   come back later kill stores closed around square everybody left    could kill easy right  nobody could hear going underground vault  heard smelled  steady hissing  dread  familiar pungency gas escaping  must coming upright heater far wall supervisors  office   lilac gaylor lila kingsley like anagram could unscramble pace choosing  except minutes room  lost touch reality  gaylor  obsession cunningham  chimera  chasing reminiscences mesmerized thinking lila lilac  separately together  legend  kept drifting apart merging mind like minute form life microscope slide   well   said mr  skyros   take little time think   awkward  awkward  would nuisance contacting someone else take  someone reasonably trustworthy  angie would hear  angie knew   time   said angie  smiled sweet slow mr  skyros   much time   needing pretty much right away  done favors  big favor long back     right take pretty left  trouble   want trouble   want trouble  nobody wants trouble  mr  skyros   dear heaven   thought mr  skyros  turning away another man came  straightened tie mirror shaking hand   genial smile seemed painted face  angie knew  speak dangerous information   angie knew much entirely already  really mr  skyros bay  big favor done  acourse  deal  denny   jackie   kinda hangin  fire    maybe  kinda worryin    say blame   said angie thoughtfully   deal ace  spades  anything ace  spades  bad luck   ace spades  widow  called widow  low  class crooks remembered mr  skyros distractedly  angie knew   things got little hand  rapidly got lot hand  seemed general rule  chance  way tracing back poor frank   naturally  brothers  living together  angie  mr  skyros like look angelo  regular  featured  almost girlishly good  looking face  indeed anything angelo  mr  skyros man thought much moral principles   found money much interesting   thought  uneasily  way angelo earned living  paid stuff  eyed soft smile  spaniel  like dark eyes  felt little ill   look  friend   said   life learn  proverb says  better ounce prevention pound cure  stay business long  careful  two weeks  month  talk  maybe nothing happens meanwhile say cops know  make little deal        long   said angie   tell  want leave way   fool around  go castro get fixed   wait two weeks   mr  skyros  like angie  prettyman three boys inside  likely come  angie valuable salesman  prettyman said  nuisance danger getting touch practically whole new bunch boys  everything happen   denny said stupidly     turning angie   mr  skyros   mean  figured  guess anybody  figure  angie   angelo gave affectionate smile   mr  skyros smart fellow want get rid   said     k   denny  everything   k    mr  skyros    oh  god  name repeated  anybody hear  fool  mr  skyros knew  aside everything else  would scarcely pleasant dealings one nominally underling actually held  could say  whip hand  domokous   mr  skyros dreamed trouble young man would eventually cause  course  another factor  angie worth weight gold right  users  sometimes went fast  knew  angie might last long  sweat broke mr  skyros  forehead realized actually thinking  hoping  planning  perhaps  good god  domokous enough   patted angelo  thin shoulder paternally    want go talking way   said   sure  sure   one take pretty  soon get supply  get started      need worry  angelo  tell  know  friend  sympathize   make special point  special favor  get touch  get stuff   know manage tonight tomorrow   try best  friend  see  got remember  got schedules  like business   man   around little  fixed stuff took elite   awkward  see       well   business  mr  skyros   said angie  dreamy eyes moved past mr  skyros  shoulder gaze vaguely ground  glass window   appreciate   sure   none us want trouble   room golden club san pedro  ask  want see  maybe call  tonight   nine  clock  call see got  couple decks  mr  skyros  ten  twelve sell  see  like little ready cash    oh    know much   said mr  skyros   know  angelo  pretty  always keeps strict cash basis  like say    sure   said angie   sure  mr  skyros  fifty throw  deal   sure  bring cash  say five hundred ten decks  never mind much cut  much get   smiled sleepy smile   standard deal  mr  skyros  go  n  look round    best   said mr  skyros earnestly    friend  awkward everybody    got put inconvenience sometimes  best   got hurry  brushing past another man door  mopping brow  expedient thing  yes  true  one must make one could  situations  could straightened later  much later  things settled little  deal bouvardier woman went  ace spades  superstitious man  felt perhaps little something  indeed  rather wished never got business  still  scarcely resisted  nice little profit much work involved  easy money katya roslev  would katharine ross soon  rang first sale day counted back change  notice customer seized purchase turned away without smile word thanks  usually marked thank   get kind much place like  played little game  seeing downright rude could act others   take offense  threaten call manager  funny seldom  used  probably  kind came cheap store like   grab  snatch  saw first      take   wait  bother  see   kind place   time  leave kind thing  way behind  noon   never come back  never  money  lot money  enough   smart  get give little bills  nobody would suspect  maybe  get monday account  banks   really long wait   waited long already  need say anything old woman  planned     say  feel good sunday   go church   little argument  could stubborn  old woman gone  quick pack things  need take  dress  wear monday  take bag place station could put things locker overnight  dime  monday morning  might tuesday  get leave usual time  last thing  put money envelope old woman  purse drawer   going get hour katya left  go daily shopping  need leave note  either  maybe something like   worry   going away make better life  better life  escape   wanted much   mind working hard  figured anything wrong live easy soft  wanted chance   marked  katharine ross  work nicer shop somewhere  little money could prettier clothes  learn ladies  manners like  get know different people  ones like  foreign  sounding names  ones went church  different place  different job  different people   different  prettier   hair another way   smarter  wear different kinds clothes   katharine ross  sounded like    give wrong change   said customer sharply   think  count    katya made amount indifferent silence  listening voices  future  vaguely  imagined new  different people  oh  katharine  awfully nice  pretty  like katharine  let  ask katharine go us   always lots fun  katharine  soon  soon sixteen mendoza  wake nearly nine  thirty  going another hot day   already thermometer stood close ninety  alison still sound asleep   made fresh coffee searched desk drawers cigarettes thinking handbag  found crumpled stray cigarette bottom  tasted peculiarly face powder  left note propped desk asking call sometime today  drove home   got fresh liver bast  paused look crouched daintily dish  surely trifle fatter around middle   seemed remember reading somewhere abyssinians large litters  suffered dismaying vision apartment overrun dozen kittens   que sigue despues       asked severely   lot people peculiar  like cats   easiest thing world find good homes kittens   damn  know well around long  impossible give away   suppose  finally grown  little late   go producing kittens every six months  yes  well   pity spoil girlish figure  kittens would anyway  think  raised  vet fix   wonder carters would take one   good looking like   wound affectionately around ankles  maude  long nose unexpectedly wrinkled   happened hall   happened hear quarrel   oh  well   really blame lolotte  lost beau   talking emile saw black line open door   sarah remembered clearly  maude went    got get busy  miss celie  taken bed  door locked  opened inch poked keys give    thrust bundle keys strung thick red cord sarah  hand    much use locking smokehouse storehouse  drink coffee   coffee     cold   maude suddenly looked quite capable pouring throat    want   sarah said  firmly   oh  well   take go   maude swooped cup hiked top hoop take racing start  door turned back  roman nose looking long satiric   forgot  ben lucien gone   like book northern friend wrote  except  ice floes cross bloodhounds     know mrs  stowe  find      anything   silly  childish  running like  told ben  course paterollers  help  everything upset yankee cavalry outfit say running around  god knows   swished away  gone long time probably sarah suddenly realized ought stop  pour coffee  one would drink   called coffee bad enough best  cold undrinkable  especially cup   deeply  horribly sure lucien filled opium  quarreled lucien  resisted demands money  died  provisions marriage contract  lucien would inherit legally immediate sum gold floorboards office  later  war  father  entire estate  felt cold hot  sticky chilly time  wait minute  told  think   lucien person house could put opium coffee  lost bottle opium  trip new orleans  someone taken first day honotassa  yes  missed talk emile  dinner  emile shot  rilly glendora entered room slept  bringing back washed clothes  somebody else could come   later room  would easy identify opium odor  reasonable believe lucien procured unprocurable opium come back honotassa formed plan murder   even know  certainly  guessed would resist demand gold yielding  yes  credible fool every right expect   surprised  unpleasantly surprised  surprised  somebody else    question  rev said   invite danger  skin crawled  lolotte told maude hall door open  sarah begun tell lucien emile  begun question little draft crept across room bedroom door  open barely enough show rim blackness hall  lolotte  anybody  could listened  somebody could already supplied missing bottle opium  reasonable either  opium disappeared emile  death whoever shot could stretch imagination foreseen sarah  doubts suspicions  questions  began doubt whether fact lethal dose opium cup  suppose somebody wished frighten  would leave honotassa   made certain amount logic  added argument fact might tasted coffee still hot  might even drunk   taken enough kill  would warned taste   merely attempt frighten   go back new york maude suggested    run like scared cat   well   careful  dressed accustomed routine restored sense normal everyday life  left room dug big moire bag  took envelope holding marriage contract wax seal broken  somebody else knew would happen father  money died  rev known along  rev  need break wax seal  read contract find  could conceivably wished make sure   rev loved honotassa  like part breath body   rev stressed need money  rev would never tried give poison   thrust envelope back bag   point locking armoire  like locking barn horse stolen  likelihood   one person house knew terms marriage contract  point either telling fool   went downstairs received another curious shock  glendora flapped dining room homemade moccasins  sarah asked brought coffee room glendora said    much work morning  miss sarah  everybody gone like   sarah swallowed past another kind constriction throat   well  brought     miss maude  come kitchen say take   glendora put dish lukewarm rice   much breakfast morning   know  going  miss sarah     got eat   sarah said  curtly  chill crawled  maude   glendora flapped away  rice  dosed opium  indeed taste  grain salt  ate could went along covered passageway  rain dripping vines  kitchen glendora despairingly picking chickens   get basket   sarah told    go storehouse   glendora dropped chicken flurry feathers  went drizzle  storehouse  sarah found right key unlocked door  long  low room  like root cellar  banked soil  vines run rampant   dark dry cool  doled glendora vaguely guessed right amounts dried peas  eggs  cornmeal  little salt  shelves looked emptier miss celie shown storeroom  since men commissary called   certainly fewer mouths feed less feed  took glendora smokehouse  unlocked saw satisfaction still quantity hams sides bacon  hanging smoke  stained rafters   go hungry  yet  fields green growing    possibly imagine life going like     maude said  maude  sent glendora back house  basket apron laden  stood moment  rain dripping trees head  thinking maude  maude opportunity take bottle opium sarah  room  maude cool ruthlessness whatever made mind   see death could affect maude   see reason maude would attempt frighten  besides  something hysterical silly  something almost childish attempt frighten  maude neither hysterical silly sarah rather doubted ever childish  yet maude suggested sarah return new york  maude could shot emile   reason kill  use standing drizzle  trying find link emile  murder opium cup coffee  started back house  saw light office  opened door surprised domestic little scene far outside dark realm murder attempted murder  rev  george lolotte mending shoes  lighted lamp stood table dusky  drizzling day  three bent shabby riding boot   george tack hammer  lolotte held patch leather  rev steadied something  tiny brad  waiting george  poised hammer  george said   first thing get vicksburg  get yankee    boots   lolotte laughed softly  rev looked saw  lolotte looked stiffened  george  look  way know  way guess whether one surprised sarah  appearance  believing drugged senseless  possibly dead  rev said   come  sarah  reckon know news   news  sarah thought satirically maude might said  rev  face suddenly little fixed questioning  turned george lolotte   take cobbler  shop somewhere else  want talk sarah   everything office  spreading circle lamplight  patch leather lolotte  hands  george poised tack hammer  homely  everyday atmosphere  denied attempt murder  rush panic caught sarah     mean  got  see kitchen  glendora   words jumbled together ran office question rev  face    thought warm  drizzling rain touched face  schoolgirl  refusing bear tales  reached kitchen door answer presented   told anyone opium must lucien  husband  might  indeed already proved marriage without love  marriage   choose rev confidant   must lucien  always provided lucien dosed coffee opium  thought  coldly sharply   maude might said  paused kitchen door  caught breath  told firmly opium attempt frighten went kitchen  glendora eyeing chickens dismally maude cleaning lamp chimneys  glendora gave gulp   miss sarah   cut chicken  miss maude say    homely  everyday details daily living refuted vicious attempt frighten  murder  homely everyday details living domestic requirements also pressed upon immediate urgency  matter happened  happened  somebody see dinner  eyed chickens  known  something glendora  dismal look thought certain fury time spent latin verbs   since last night   think reason    maybe   speak anyway  try talking fellows works  friends  anyone  try find happy wife  whether plays around women  might try looking wife  might talking friends husband  trouble    think black  one  looking     yeah  think might   conrad said grimly   might    stinking world   rourke said   black gilborn  best friend    know    coming back soon     think   way see jacobs woman    gilborn  secretary      think gilborn       think anything   want go half  cocked picking black     conrad interrupted   gilborn says office day yesterday   like make sure  also   possible might know something mrs  gilborn    right   see later     ever going go home     sure hell  look like     telling  corpses ever knew trouble put us   think twice letting get knocked    remember tell next corpse meet   conrad hung sat small telephone  booth bench  massaging right leg  looked watch  ten minutes eleven  wondered long would signed confession lionel black  thirty years  experience let know  even early stage  black man  still wanted know  cold  windy day  day kitti  death  stanley gilborn paid attention blustery october wind  leaving conrad  gilborn destination  simply walked  noticing  caring  stopped automatically street corners  waiting traffic lights change  unheeding people  coat open flapping  walked  tried think  kitti   mainly conrad tried make believe  nothing coherent thinking  succession picture  images passing mind  ones  different ones  apparent sequence  logical succession  enormity conrad told made impossible gilborn accept  degree realism  actuality  conrad  words intellectual meaning  emotionally  penetrated  whoever wife intimate  gilborn remembered conrad  exact words  made sense yet   knew conrad told truth   yet      kitti alive  remembered pressure hand resting lightly arm  center life  sun  closest planet orbiting around  rest world existing visible yet removed  fifty  five years lived  progressing towards  goal  eating  working  breathing without plan  without reason  kitti come along justify everything  goal  reason  lived life waiting   time known  ever considered possibility   one one  thousandth second  infidelity  could consider  really  walked  aimless  walk ended  inevitably  right front hotel building  doorman began nod head automatically  remembered gilborn  happened night  looked gilborn undisguised curiosity  gilborn passed without seeing  crossed lobby rode elevator lost thoughts  apartment  still  police longer  evidence anything different  except kitti   without taking coat  sat blue chair still faced closed bedroom door  last  sitting  familiar surroundings  truth began sink    felt anger towards kitti  sense betrayed     everything  everything wanted  someone taken away    left  hand entry ledger  right  hand one  remembered school days  victim  killer    whoever wife intimate  rose chair  took coat  quickly  went bedroom  bed still showed signs kitti lain  gilborn stood long time  looked bed unblinkingly  bed empty  kitti would lie  would lie  gilborn wondered whether kitti lain bed   thirty minutes  stanley gilborn stood  end half  hour  racking brains  thinking kitti  friends  past  left bedroom    could think answer  gilborn put coat  leaving  took one last  lingering look apartment  knew would never see  street  walking quickly could  stanley gilborn lone figure  blanche jacobs  kitti gilborn  death quite different effect  blanche  kitti  death source guilty  nonetheless soaring  happy hope  blanche  defense  must said unaware newborn hope  anyone asked  would described nervous worried  figures worksheet paper front jumping waving around badly could make clearly enough copy typewriter  wondered whether stanley would call  wanted  give comfort companionship knew needed  skipped lunch hour fear might call    feeling sick  concern stanley hunger   called   men  reflected  even men like stanley  unpredictable  tried think unpredictable actions eleven years known discovered  many  stanley really quite predictable  one things liked stanley   like many men  dentist last night  instance  dinner movies fine  taken upstairs say good night  invited coffee  kitchen  watching kettle  waiting water boil  grabbed  without warning  without giving chance prepare  behind  put arms shoulders  turned around  pressed  close  breathe  later  apologized long scratch across face  tried explain  help  panic arose unwanted   understood  left  knew would never see  stanley  like  could always predict stanley going  ever since first met  except one morning  morning walked announce  blushing  married  thought going die  assumed one day would ask marry  blanche  remember first arrived conclusion  thought sometime second week worked stanley  nothing said  seemed natural working  looking forward eventual proposal  thirty  one years old  mother already considerably concerned daughter  future  blanche able maintain serene assured composure face widowed mother  continued carping  able resist urgings date anyone offered slightest possibility matrimony  blanche  matter time stanley would propose  expected stanley would shy  slow taking momentous step  stanley went along life  knew  convinced deserved love faith woman  result  never looked  one day  expected  would somehow discover  without tell  woman world   woman willing give love  faith  anything else woman could give husband  indeed  woman  unasked  already given love  unquestionably  blanche loved stanley   unexpectedly  stanley made announcement  first day  blanche literally thought going die   least  go mind  might easier kitti walker  everything blanche  kitti thirty years younger stanley  taller stanley  prettier stanley right hope  much less expect  kitti could married score men  reason marry someone like stanley gilborn  need marry stanley  kitti come office  somebody  recommendation  needed help preparing income tax return  stanley filled return  finished  close lunch hour  politely asked kitti join  never expecting accept  blanche knew door stanley  office open  without straining hard  could hear everything said  stanley gone  saying would back hour   come back two  day  blanche still  know exactly happened  mornings stanley came late  afternoons left early  days  come  blanche knew something must causing stanley  new  strange behavior never connected kitti walker  unprecedented   six weeks day kitti first came office  stanley announced kitti married  somehow  blanche managed cover stunned surprise offer congratulations  night two left week  honeymoon acapulco  away blanche came office every morning  running things always run stanley  going week dazed stupor  getting things done automatically  habit  exactly one week  able continue manner  morning stanley  return  however  strength left  two hours watching serenely happy face  listening soft humming bent penciled figures  blanche leave  stayed away ten days  ten days like others blanche known  mostly  stayed bed   tell anyone  even mother  wrong  refused doctor  insisting nothing doctor could   right   said fingerprint man   also   going believe prints   look killer  top  grade piano player   demonstrated playing imaginary piano  staccato passage broadly exaggerated attack  make clearer shifted acting  change manner  killing rose mallory  hands snatched imaginary bucket  swooping hard grab coming away equal snap like ball  bounced hard  way pantomimed grasping mantel bouncing cleanly  pressing hands floor bouncing cleanly  moving like ballet dancer  playing laughs  rose mallory  killer acted way  catching going cinch   know stretch pants flowers  wear twined hair  perhaps felix first come upon us boy cavorting gaily hall outside murdered woman  apartment  might less trouble convincing felix seriousness   remember  still new year  day  time felix turned early afternoon   one would think  would late enough  except small children hardy souls yet sobered  could expected people would longer sort active interest previous night  noisemakers paper hats  felix exception  retained hat horn   whatever fun might still going  ready join   incidentally  might give idea felix like    happened upon us second  floor hall without warning   e  boys finished   spot examination body removed autopsy  meat wagon  therefore  front house  cluster squad cars still cop door downstairs screen comings goings   furthermore  crowd curious onlookers gathered street couple cops hold decent distance  put felix  place moment   taxpayer  householder  landlord   away home new year festivities  party come home  defining sobriety limited sense free clinical symptoms effects alcohol ingested yet eliminated system  sober  still paper hat  wearing   extraordinary paper hat  addition anything else may  also sculptor created peculiar dame back yard   much assume lasting interest paper hats mr  average citizen  paper horn clutched big  craggy fist  entrance planned noisy  colorful exuberant greeting friends tenants  find house focus public police attention  imagine forgetting circumstances approaching startling unexpected situation unsuitably hatted armed paper horn   maybe one could startled forgetfulness  shoulder way cluster curious barge cop door  identify ask  going  instead answering  sticks head door shouts stairs   got upstairs guy   bellows   owner  send    turns back   go   says    tell  cooking   even  go house oppressed knowledge something cooking house passed unaccountable  official control  could go forgetting still ridiculous hat head still carrying childish horn hand    getting fully prepared felix  odd one   seen handiwork back yard  little tenants told us make sound little special   however  prepared anything like apparition confronted us felix came stairs   course  must equally unprepared confronted   nonetheless  find reaction startling  felix still wearing hat carrying horn  forgotten  remembered  came bounding stairs joined dance  adjusted hat  lifted horn lips though flute  fell alongside fingerprint expert cavort  man stopped dead glowered felix  felix threw head back laughed laugh shook timbers even solidly built old house  bull man  big  chested  big  shouldered heavy  armed  face ruddy heavy unlined  laughed showed teeth  big white strong unquestionably home  grown   remember ever seeing teeth quite white time quite emphatically dentures  hair receded way back neck  fringe hair wore cropped short  almost white teeth  man mass curiously short   dwarf bit comic figure  man big staggeringly developed torso long powerful arms expected stand taller five feet five  felix bit stretch make even measurement  man side freak  waited till finished laughing  gave us moments taking stock  dressed manner esquire might suggest outdoor man  country weekend  dark gray sports jacket  lighter gray slacks  pink flannel shirt  black silk necktie  eyes clear  freshly shaved  alcohol could never missed detecting scent massive gusts laughter  even whiff  eventually subsided   felix    gibby said     said merrily    happy one    much latin remember   gibby said dryly   always live name  always like  always making happy     try   felix said blithely   world full blokes put hearts making tragic scene   never noticed improves things    bully   gibby said    rest name     rest  felix    ever     past leave historians   felix intoned  demonstrating could pompous well happy   live present     present   felix proclaimed   future  time man live       gibby announced   philosophers  assistant district attorneys  gentleman police officer  fingerprint specialist  could future  immediate future  made include taking us upstairs  giving us bit space friend work  making available finger tips    happy one could never looked happier  joy  ecstasy   lovely whorls   chortled   intricate  beautiful  come right along  love fingerprints   prancing along hall  heading next flight stairs  gibby called back    happened last night   said   past  yes  important  since important  record let  full name    important    felix asked   important    grubb   felix whispered   felix grubb    gibby asked  bothering whisper   shh   felix implored    see would make necessary know  nothing could make necessary proclaim whole world   obligingly gibby lowered voice   felix grubb    repeated    edmund  years  years  felix  first thing twenty  first birthday go court officially changed  something  tell everybody  almost forty years ago   volunteered man sixty  bounded stairs leap rendered number less credible  broth boy  felix  nothing obvious joy took demonstrating agile full juice spirit  followed stairs  cops would gather connor foursome third floor bring us would voluntarily submit fingerprinting  may think  need nancy jean  always get  guarantee fingerprint record  useful case  also  excluded ladies would extent let whole world know least much stood  killer  present group  would certainly interested knowing much  even though fingerprint evidence could see way could use bit information improve situation  might always way  possibly avoid   hand extra chances  felix took us studio  oddly shaped space top house  ceiling heights accommodate varying angles roof slope  angle pitch big skylight fitted roof skylights fitted systems multiple screens shades  felix first opened door  shades tightly drawn whole studio dark night  quickly fixed  rolling back shades skylights adjusting screens others  flew place making adjustments obvious fruit long experience  none movements tentative  process trial error  starting room completely blacked  came  unerringly fixed things whole place bathed maximum light without point admitting even much crack glare  expecting something   average wacky  surprised found  display either works progress finished work  work table pedestal stood shape sheet tarpaulin draped  shapes might mad  telling  completely shrouded  equipment solid heavy good condition  everything orderly seemed arranged workman  comfort  convenience efficiency  tools neatly kept  confusion litter  supplies sheet metal neatly stacked bins  andy see newspapers next day  someone staff  suspected ed thornburg  intercepted andy grateful  finally fell asleep around six morning aid sleeping capsule  crutch rarely used   awaken early afternoon  memory flooded instant opened eyes sick feeling knotted stomach  outside window bloomed beautiful summer day  presumably sun shining upon little drew also  kidnapped    still big world  despite modern cant contrary  hub sitting chair blocked hall door  dozing  perhaps sleep  gotten  snapped alertness andy  entrance   sorry  mr  paxton  nothing new  lot people waiting see  though    reporters     people  questions show tonight   hub picked telephone   shall let know  awake     suppose   lissa  know    hub considered   better   got plenty guts  mr  paxton  want call     expecting    hub shook head andy told bother  reason contacting lissa comfort comforted  could manage former expect latter   nothing give  omission might look peculiar outsiders  andy could bring go motions simply sake appearances  little time  anyway  afternoon sped toward evening  suite saw steady procession paxton aides pass  special problem  thornburg arrived writers  spent morning revising act  eliminating gay songs  patter dancing view best public relations  remained lacked original verve least dignified  befitting tragic circumstances  raymond fox reported orchestra hastily rehearsed  cradle song  case needed  charlie marble back forth several occasions  first confer andy advisability cancelling las vegas engagement  decided wise  later announce prominent comedian  also agency client  agreed fill casino  open date  bake slipped  pale drawn  last night  liquor still breath today  added  asked anything could  andy invented job keep busy  sending ahead el dorado supervise last minute arrangements  rocco vecchio  heard nothing  last time depart  hub  nosing  spotted reporters lobby  andy hustled away quietly hotel  service entrance strange car hub procured somewhere  succeeded eluding curious hotel  chance avoiding nightclub  el dorado surrounded mob  overflowed parking lot  making progress automobile difficult  long reached protection stage door  andy recognized  word arrival spread crowd like brushfire  surged around  fingers pointing  eyes prying  hostile gathering andy sensed difference last night  hero  worshippers  come admire observe    worse inside   thornburg informed andy   skolman  jammed every table could find  heading  ill wind  et cetera   backstage tomblike contrast  andy  co  workers kept distance  awed tragedy  dressing room large bouquet card read    way   signed everyone troupe  andy  help touched  instructed shirl winter compose note thanks posted call board  bake waiting report lou duvol sobered point could function efficiently  andy gathered small accomplishment  bake looked better   kind job better brooding  andy told   bake  wish  talk skolman  see kind p   system rigged outside   barely possible crowd kidnapper  able get table   want miss message     try  skolman  going like much  though  giving away selling   skolman  one  care andy  scheme  short time later  lieutenant bonner stomped dressing room   got bone pick  mr  paxton   damn loudspeakers   andy rolled revised script studying        going louse good  men afternoon  setting thing   bonner explained  nightclub  cooperation  police occupied el dorado like battlefield  motion picture cameras installed film audience  reservation list checked name name  special detail already work parking lot scrutinizing automobiles possible lead  however  virtually impossible screen mob outside  even bonner manpower available purpose   want speakers taken   andy sighed   seems like  never going see eye eye  lieutenant   tell wanted p   system     sure  know   long shot    longer  expect get tonight  anyway   think somebody going stand audience make guilty faces   sign car says   comes paxton kidnapper     andy crumbled script fist    stop think right   try stop  either    someday   bonner said    going ask us help  hardly wait     understand  asking   bonner departed  still full ill  gotten stuck job big imagination   cling routine  tested procedures  act otherwise would admit helplessness   admit  bonner helpless  crime showed much planning  kidnappers appeared proficient caught checklist  andy  performance scheduled eleven  clock  stalled half  hour longer  hoping hear something vecchio ransom money  bake shirl winter  separate telephones  could reach conceivable location los angeles  could secure clear  cut information regarding efforts  bake cursed   sweaty bastard  probably halfway peru money   one smiled  felt constrained add   kidding  natch   thornburg popped advise   andy  skolman  sending smoke signals  ready      complaining    bake asked    drinking        got bunch sippers tonight  guess nobody wants pass miss anything   thornburg added lower voice andy overheard   act like jury audience   andy said   well  guess  wait longer  hub  stick stage door  rock shows number  hear anything  give signal   shirl winter said    stay phone  mr  paxton   couple call  backs work     sweetheart  leave one line open  may try phone us   andy passed corridor   good lucks    following  said every performance tonight sounded different  really needed  right  act  cut shreds hastily patched together afternoon  rehearsed sufficiently anyone  result nothing polish  pace cohesion previous night   luck would normally step  ordinary show andy knew  whether sang well badly nothing  audience come entertained judge  twenty  four hours changed performer freak  within framework  followed strained  even macabre  eliminating patter upbeat numbers left little blues songs equal melancholy  effect depressing gravestone  applause irresolute short  lived  yet andy plowed ahead  mouthing inconsequential words possessed real meaning  gradually listeners warmed  clapping grew fervent   evening still beyond salvaging  show person  worst yet come  andy reached finale act  subdued commotion backstage drew attention wings  rocco vecchio  perspiring  haggard vecchio  standing  flanked two men uniforms armored transport guards  vecchio nodding pointing large suitcase held  andy felt heart thud heavily relief  waved fox cut finale introduction  music died away discordantly  drew deep breath   ladies gentlemen  place regular closing number tonight   like sing something different nature  ray  please   cradle song    sensed rather heard gasp swept across audience  could blame  particular song particular time could interpreted ultimate bad taste  callous exploitation beyond bounds decency  choice  plunged  anyway  holding onto microphone support   lullaby goodnight   voice shook  first time life forgot lyrics midway cover humming rest  wondered audience would let finish    though contemptuous  still polite  finally  scorn made apparent  someone clapped tentatively quickly stopped  otherwise  silence complete  lights came  andy could see number patrons already way toward exit  stumbled  stage   god   muttered   god   hub support    okay  mr  paxton  money     moment  could think  forced undergo   hear   know think     bunch damn jerks   hub growled   needs    thornburg patted arm   sure  andy   right  nothing broken  mended   words hollow  thornburg knew  better  public image fragile humpty dumpty  king  horses king  men vecchio shouldered   got  andy  god knows  got   never believe places  today  practically sign life away   probably fire deals go    andy nodded dully    matter  rock   done part   clutched knowledge returned dressing room  usual congratulatory crowd conspicuously absent   place air morgue  andy desire linger hub reported mob outside still large despite efforts police disperse  son watched got far hall  almost sight  hurried   dad  dad  wait   caught old man living room  old man arthur put suitcase open front door   one favor  dad   tell ferguson crazy opinion       old man gave room stare leaving   scraggly brows pale old eyes burned bitter memory    truth    bartlett girl killed mr  dronk  son  rossi ferguson across street  talking kid   found sort new evidence  bundle clothes something  must link kid even stronger crime   accept facts   two kids together lot  kind teen  age affair  god knows far gone  kid  crippled  limps  man hit took cane  limped  god  much want    father looked closely   sound like old woman  gone work today   stead sneaking around spying dronk house     see    trouble   old man arthur began  checked  young mrs  arthur opened oven drifting odor hot biscuits  old man opened door stepped sunlight    enough time go   finished  slammed door son  face  mrs  holden turned window draperies   found something else   said half  aloud empty room   took away  overalls something   walked restlessly across room  back windows    gone   come back   arrest dronk boy   stood frowning chewing lip  wearing brown cotton dress  cut across hips way supposed make look slimmer  yoke set skirt flaring pleats  smoothed skirt  sat  stood went back windows   earth send work   excuse enough keep home young mr  arthur  still   sudden energy  went phone rang holden  office asked   think better come home    mae   busy  mr  crosson  everybody  neck  order expected  come      care  want   alone certain things going look ominous  need someone go find  happening      even home    voice grew high trembling    underfoot every time cops turn around     think something    see grin split mouth   teeth shone phone like shark     risk   wander along dark     think even would wondering   found clothes   tossed      deliberately  ignored yelp   also  mr  ferguson  guess wants ask questions  stalled   expect five     better wait five       come home right away   slapped receiver holder stepped away  eyes bright anticipation  office  mr  holden replaced phone slowly  rose chair  cough   went window choked fresh breeze face  got hat closet  moment thought going crosson  office explain leave  pain chest  pounding head  decided let go  passed receptionist outer office  muttering    got go little   let call crosson wanted  let crosson raise roof even   care  got car  putting key switch  pressing accelerator foot  putting car reverse  seemed vast endeavors almost beyond ability shaking body  street  traffic gadfly maze wandered stricken  turned highway led outskirts city rose toward home  pull curb wait minutes  sucking air squinting blinking eyes clear tears  earth mae  mind  wanted spying cops   think could   tried ignore common sense told   possible   motives blatant  wanted get trouble  wanted police notice  suspect  going keep scheming  poking  prodding  suggesting  dictating cops got enough interest go back old neighborhood ask questions  knew moment  cold sinking despair  dying old hopes  mae spread kind word among neighbors  nothing bald  open   enough   suspicions repeat police  though inner thoughts cringed  forced think back  recreating scene mae claimed caught molesting child   amounted anything  nothing evil dirty intentions  second scene flashed mind  interior garage new house young bartlett girl turning startled meet  dim dark sudden confusion fear brightness mae clicked light  suppose cops somehow got hold   well   seemed   idea girl   touched  came examine scene  certain staginess  smell planning  swift suspicion darted mind  monstrous  course  mae  plotted thing like  little accidents played hands  like murder  leaned wheel  clutching  staring sunlight  tried bring order thoughts  felt light  headed sick  use wandering territory utter nightmare  mae wife  married better worse   wilfully planning destruction    even conviction truth roared  shattering last hope safety  reaching release hand brake  head road home  bidding  drove  road wobbled  familiar scenes crept past either side  came stretch old orange groves  trees dead  uprooted  outlying shopping area  tract houses  feeling abandon car run somewhere hide   imagine  really place go  finally  except home mae  gate slowed  looking around  cooper beside car  curb right  standing morosely    even look  behind steps little office sat old man arthur   straight  something angry attitude  might waiting report something  holden stepped gas  new idea drifted nowhere  could go police  could tell fears involved  could explain happened old neighborhood mae misunderstood held  scene complete mind moment  even jerkings snivelings  ferguson  silent patience  could throw mercy police department   mae would want  though  sure  abandoned worst  quieted dragons worry suspense   much mae  moment  holden almost slammed brakes go back cooper ask ferguson  would relief  old sign  supposed painted door somewhere  abandon hope  ye enter    holden said  surprised sudden insight   bet people enter happy   worried   lain awake nights   shook slightest footstep   pictured destruction   give  sure   giving hope  hand hand hope went things like terror apprehension  good  bye  holden waved hand empty street  glad see go  drove paved space garage got  slamming car door  looked street  ferguson  car sight  holden would walked directly  went front door opened looked  mae entered room hallway kitchen  cup something steaming  coffee perhaps  one hand  fresh piece toast  stood  watching holden come  put piece toast mouth bit one corner huge chomp white teeth   mae     thinking   said  swallowing toast    old pair painting overalls garage   used time painted porch house  wiped grease   caught guard  preparation  nothing certain ahead lay kind disaster    wait minute      looking   gone   sure garage couple days ago  even yesterday  used paint  took rags  police     remember overalls    faded  worn knees   stood sipping chewing watching   green paint     well   sure color     mae  sit  put cup coffee  tell   shook head  took another bite toast  holden noticed almost absently chewed  whole side cheek moved  slab fat extended neck   goodness  ought remember   going go police explain happened  tell truth something come   seeping coldness entered holden    nerves seemed frost  bitten tips tingling fingers spine felt stiff glass  like  liable break like icicle moment    never owned painting overalls  man sketch pad hand sat large pink woman small office end long  dim corridor made pencil lines paper said   like  mrs  macready   eyebrows like    finished  would go another part hotel say much things someone else  probably busboy   begin look like  would say   different mouth  huh   like  maybe    men blew dust objects room seventeenth floor hotel dumont blew  tiny  almost airless room tenement west forties  men also used vacuum cleaners rooms  sucking dust  men third detective district  eighteenth precinct  longest  tedious  job  hotel dumont  time issue  twenty  three overnighters  counting couples singular  included  one  mr  mrs  anthony payne  checked little noon day  checked together  gardner willings included   dumont almost week   course  special reason believe man woman sought stayed overnight hotel  twenty  three  twenty  two paynes omitted  provided merely place start  identification barest starts  names addresses listed  verification came next  would take time   would  almost inevitably  trouble water    certainly dumont last night husband    boston  course     hotel king arthur across street provided almost twice many problems  king arthur offered respectable convenient lodgings people suburbs wanted see show  want  heaven knew  want    lunge anxiously crowded streets railroad stations  odd hours night  drive smaller stations distant homes  probably rain  november  something worse  king arthur less expensive dumont  king arthur fifty  four overnighters  counting rooms rather people  check overnighters  failing find wanted  likely  check guests  special  exclusive  attention rooms street   anyone active enough reach roof  wherever room may   know  went  real reason suppose murderer guest either hotel  even certain shot fired either hotel  roofs  less convenient impossible  dull business  detecting  hard feet  also one salient question ask  ask widely  notice anything way   like  example  man carrying twenty  two rifle  probably telescopic sight attached    course  hope really would simple  sniper  whether psychopathic marksman murderer intent  would hardly walked vantage point rifle shoulder  whistling marching tune  anybody carrying anything might hide rifle   long thin suitcase   long fat suitcase  matter   shrugs met  room clerks  bellhops  measures   nothing  appeared  long enough attract attention  cases  say  musical instruments   none noted dumont  several king arthur  combo staying  week  anything else   anything   shrugs met   detective pearson  eighteenth precinct  thought time might something  refuse bin dumont turned florist  box  long box long  stemmed flowers  traces oil green tissue   lab check  lab  sorry  oil   anything strange   well  man tried  king arthur  register ocelot  dumont  guest come collapsible wheel chair  king arthur one guest head heavily bandaged  another bandaged foot walked crutches  also man must st  vitus something  kept jerking head  reports dribbled  william weigand tossed centrifuge become head  mullins came  sign mrs  lauren payne house nod road  ridgefield  connecticut  house modern  large  five acres  must cost plenty  state cops would check time time   pass word word pass  weigand tossed news centrifuge  sort things  damn  sort next move  try forget motive moment  consider opportunity  actually payne shot  left party within five minutes  make five arbitrary  positively none  norths   hathaway  jerry  publicity director   livingston birdwood  producer uprising  payne shot  could therefore shot  take gardner willings  left scuffle   seen leave  would ample time go blind somewhere wait prey  consider seriously  therefore   intangibles entered   hunches felt like facts  willings would ambush  certainly   willings undoubtedly  willings  presumably  better average shot   hunch   willings would ambush anything went two legs instead four   reason  willings would never moment suppose bigger  tougher  anything else went two legs  ambushes laid doubt  man may tiger  faith constable  go  party  presumably  gone  checked  forget motive    motive part fact  nobody right mind punishes quarter  century  old dereliction  grudges simply keep well sane mind  faith constable accomplished much quarter century  jeopardize correct old wrong   bill shook head  also  thought  doubt could hit side barn shotgun  lauren   left party early  pleading headache  lack opportunity  presuming gun  might  conceivably  brought one large  enough suitcase   check payne luggage   might taken away  motive  husband wandering   bitter  unreasoning jealousy   heaven knew happened hell knew   happened  almost always  among primitive  usually  among young   call mentally young   call retarded   nothing indicate lauren payne primitive  move primitive circles  young  young  occurred bill weigand  hunch basis  eliminating good many  reminded eliminations tentative  also reminded unusual number possibilities  masons  mother son  mother son   opportunity obvious  motive    cause hate lay well back years  bitterness cause remain  even increasingly corrode  boy  particularly  boy  apparently  mrs  macready right told mullins  recent months forced give college  work busboy  seeing man blamed made much  youth bitterness  bill picked telephone   got mullins   send pickup mrs  mason boy  got enough go   bill said   right    mullins would  man named lars simon  playwright  director  expressed wish anthony payne drop dead  would say  course  really wish   said one things one say  lightly  meaning nothing  probably would turn true   obviously given opportunity say  man named blaine smythe     e  pronounced without  fired payne  insistence  also  pam north right  closer acquaintance lauren payne    inclined admit  might deny latter   would certainly deny connection two things  connection either murder  would given opportunity  mullins   evident mullins man go  evident captain remain desk  directing firm hand keeping firm seat  bill weigand good tired wall opposite  crack plaster  let mullins keep firm seat   let stein  siamese cats intertwined difficult tell one leaves another begins  stilts shadow  pam  bed  appeared one cat  rather large  siamese cats go   sure  two heads two tails  hand    seemed legs whatever  pamela north said   hi   cats  added proper cats met humans door  four dark brown ears  one twitched slightly   right   pam said   know  dinnertime   one  large cat suddenly became two cats  stretching  shadow  talkative  began talk  voice piteous  stilts  direct cat  leaped bed trotted briskly toward kitchen  shadow looked surprised  wailed  trotted  hell  dinnertime  two waving tails told pam north   whatever tale told tails  martha presumably would cope  might firm  unlikely would firm  want fat cats  pam thought  lighted cigarette leaned back chaise considered pulling thoughts together  time  occurred thoughts worth trouble  vague feeling anthony payne coming hardly thought  event  reprehensible  faith constable  explanation confidence  uninvited  little thin   like thought  great deal  tall dark boy  carrying trays heavy  found might considered adulation man probably hated could bear   possessed     rifle killed   pam found answers   hope  poor kid  poor  frail kid  people luck luck  whatever people prefer order say  size  poor  unlucky  telephone rang  pam realized  surprise  almost dozing  four  clock afternoon  two martinis lunch  trouble  ought remember   pretend  remember    hello   yes       voice music  even words coming fast  came music voice   said would   pam said    talk gave information  unless    mrs  constable  unless   interrupted   call cry help   faith constable said   door conveniently unlocked   madden supplemented   damn door   said police chief   gift horse viewed suspicion   madden  dark face wore meditative look   collusion outside murderer member household would elementary precaution check door later  makes poor red herring inside job  much better break cellar window     forget  hope would pass natural death   pauling reminded   well  house big must least one cellar window  noticed right away unless police investigation    yeah  pane glass  hard   telephone interrupted  scooped receiver said   police chief   mouthpiece    oh yes  mr  benson  hoping  hear today   free hand pulled pad pencil toward began make notes listened  saying   uh  huh   see  intervals  last said   well  thank calling  mr  benson  although doubt mind  handling one  glad made official   hung   coroner   said madden    heard pathologist says mrs  meeker apparently died suffocation   pauling looked notes   many minute hemorrhages lungs   particles lint thread mouth nostrils  scrapings bed linen identical lint thread found nasal oral cavities  cause death apparent  trachea clear mucus foreign objects  brain examined thrombosis  clot hemorrhage  signs  gross hemorrhage lungs  heart  brain stomach   paused     oh  time death  duration digestive process varies  pathologist says  empty stomach findings upper gastrointestinal tract indicate mrs  meeker died several hours seven   clock dinner  probably around midnight  give take hour either way   pauling paused     said   problem  course  unless johnston murderer one   discussed possibility  however likely  pauling said   limit  look prospects  motives conclusive evidence pointing johnston came light  madden  investigation centered fraud  said tomorrow would go bronx bank mrs  meeker  checks johnston cleared  arthur williams located  agreed  might collusion johnston fraud   might mrs  meeker  murderer played part death  madden  suggestion   police chief shook head  arthur williams involved fraud murder  another identity  one medfield police questioned professed know johnston  scholarship applicant   pauling looked doubtful  madden explained thinking application sent directly mrs  meeker  asked use phone called brian thayer  said leaving keep lunch date would home two  clock  madden said would see two made another call  one mrs  meeker  lawyers  mr  hohlbein day  mr  garth would free one  thirty  secretary  tone indicated appointment short notice concession madden duly grateful  inferred hohlbein garth high  priced lawyers  lunch pauling  promptly one  thirty entered hohlbein garth  elegant suite offices medfield  newest professional building  disliked garth sight  conservative clothes haircut  smile shade earnestly boyish man must well thirties  handclasp consciously quick firm  youngish man make  madden labeled  ready guess correct  pushing fashion  junior partner firm political ambitions   mrs  garth would impeccably suitable wife rising young lawyer   three children  two boys girl   active woman  club lions  rotary  jaycee   finally  neither harbored unorthodox opinion since wedding day  madden knew could completely wrong  also knew would go right disliking garth  garth prepared helpful referred fastidious distaste unfortunate johnston affair  would  said  ever come mrs  meeker seen fit consult mr  hohlbein  madden regretted able find fault true statement  asked see copy mrs  meeker   garth brought one  date  october 8  1957  immediately caught inspector  eye   fairly recent   remarked   habit making new wills     oh  reason change one made right mr  meeker  death  estate grown considerably  wanted make equitable distribution among groups would benefit   particularly scholarship fund  time drawn mr  hohlbein mentioned mentally alert seemed age  knowing changes wanted made forth   garth hesitated   mr  hohlbein noticed lapses since  though  past year   say  even two three years ago doubt  become involved unfortunate johnston affair   consulted us  see  always  showed utmost confidence whatever advised   inspector nodded  doubting  mrs  meeker  struck ready seek anyone  advice  least garth   sharp tongue  cut pompousness ribbons  would hohlbein handled affairs  madden settled back read  skimmed millions went meeker park  medfield hospital  civic center  public health nursing association  library   pausing came scholarship fund  two millions added set aside mrs  meeker  lifetime  proviso made long brian thayer continued discharge duties administrator fund satisfaction board trustees  hereinafter appointed bank administering estate  retained present capacity salary commensurate increased responsibilities enlargement fund would entail  splendid vote confidence thayer  madden reflected  tenure   nice  went personal bequests  list names largely unknown  twenty  five thousand great  nieces oregon  much blood relatives millions  ten thousand friend  five thousand another   brian thayer  sum ten thousand dollars   pecks  ten thousand   joan sheldon conditional bequest ten thousand paid event still mrs  meeker  employ time latter  death   additional five thousand year joan  twenty  first birthday   mrs  meeker  got around taking care   bad  madden thought  joan sheldon earned larger bequest  mr  hohlbein left twenty thousand  garth ten  names madden recognized  arthur williams  might well included  felt  mrs  meeker spent small fortune search made provision found death  never mentioned name lawyers  madden took point garth  shrugged   old people idiosyncrasies    one came bit high thirty thousand   well  number money concerned   garth said   sometimes  trouble persuading make tax  exempt charitable contributions   known quarrel plumber bill fixing faucet   next moment  put another half million scholarship fund thirty thousand something impractical unfortunate johnston affair  telling  react spending money   madden inquired next audit scholarship fund  annual audit  garth informed  discrepancies shortages ever found  brian thayer thoroughly honest competent administrator  salary reached ten thousand mark  expenses ran another four five thousand  lawyer  know well although saw occasionally dinner party  thayer  like  madden reflected  extra man prized hostesses  found easy enough talk   play golf   seem belong local clubs  work took away lot  course  probably accounted tendency keep  garth  glance began flicker watch  said already told police chief  know insurance man recommended johnston mrs  meeker  would offer theory account murder  whole thing  manner conveyed  far outside normal routine hohlbein garth practically demanded swept rug  doubt mrs  meeker snubbed many time felt grief passing  even  madden  dislike suave  correct lawyer deepened  would right  decided  investigation fraud  probable  product murder  led garth  door  motive   ten  thousand  dollar bequest  first glance  much motive man standing   air affluence  could tell private financial picture   inspector knew left wishful thinking  nevertheless  made mental note look garth  financial background  brian thayer downtown address  lived apartment house three four years old  reclaimed island landscaped brick glass fringe business district  occupied two  bedroom apartment fourth floor  using second bedroom office  airy bright  apartment furnished good modern furniture  rugs  draperies  done professional decorator  madden thought  somehow impersonal  unremarkable occupant  dunston rent would run close two hundred month   medfield  perhaps twenty  five less  paid thayer  could charge one room expense account  took madden room used office  contained desk  files  typewriter stand  two big leather armchairs  newspaper open stock  market reports lay one  thayer folded offered drink  inspector declined  begin interview  asked thayer  time think  could add said day johnston  thayer shook head    think   death   still unbelievable murder  domineering ways   conceive deadly enemy    dammit  phil  trying wreck career      wrecking  wrecking  wrecking    griffith confronted hoag building  front steps  hoag permitted  backed wrought  iron railing  rage built made way second floor  helped quantity champagne consumed  hoag said    send  leigh  want captain charge      phil  god  sake  go away  undersecretary   told  nothing midge  nothing   mind   couple sobs escaped  followed sentiment revealed emotional state     fit touch hem garment    leigh  get grip   midge  security information prime minister   griffith looked suspiciously red  rimmed eyes     mean  phil    pull leg  old man   get platform morning     pulling leg  call captain     use   come   peered closely hoag gathering darkness   happened head     hit  knocked  get     says  take message   stared hoag drunkenly    hit head      matter  get back captain tell  somebody  going take shot prime minister  mahzeer plot  tell circumstances trust prime minister mahzeer   griffith said    impossible  mahzeer  ambassador    nevertheless  true    impossible   griffith trying clear head champagne fuzz encased    show wrong  mahzeer prime minister alone right   nodded triumphantly   proves    hoag looked terrified        expect  john   mahzeer  office        facing us  two flights  look  old man   go   even let front door   good boy   hoag grabbed shoulders   listen  leigh  want spend another day state department  another day  get tell captain told   bit words   know   griffith raised placating hands   easy  phil  going   way   turned fled house made way marble stairs without looking back  second landing paused look docherty   see  accepted glass champagne  took several large swallows  recollected docherty gone another flight  decided would wise cover finding  way hoag  telling might say  finished champagne climbed uncertainly next landing  top uniformed officer blocked progress   yes     asked   want captain docherty   spotted docherty coming room far end corridor called  docherty said    okay  bonfiglio  let   walked toward   well    griffith said   hoag told tell   waited close   hideously embarrassing   let prime minister alone mahzeer   griffith looked half  crocked captain   would like       claims mahzeer  plot kill p     docherty went taut  possible   could ambassador man side prime minister feared   possible  thought   prime minister knew enemy    going allow led meekly slaughter  wild chance mahzeer man   dare try anything  docherty looked two see well  docherty damned would make fool way earlier laundry truck  one muddleheaded play like one  leading away  still  checked    friend hoag get information    asked    faintest  captain    would mind sending    like talk   troubled  continued along corridor  poking head next office careful look around  hoag stayed front steps griffith disappeared building  unwilling rely griffith  carrying message  confidence police would act  mahzeer alone prime minister could arranging execution hoag stood shivering darkening street  would something    door opened three men woman sari swept past stairs  lighted interior saw men women struggling wraps  early departures   half hour reception would  mahzeer planning set prime minister muller would next minutes  hoag descended stone steps street looked building  wide windows many small leaded panes swept across upper stories  second floor saw animated faces party guests   scene looked like christmas card  third floor one two windows lighted   framed maroon drapes  faces visible  would mahzeer  office  prime minister would back window  seated mahzeer  desk   would going papers mahzeer saved excuse meeting  minute  five minutes  business would done   mahzeer would stand  prime minister would follow  mahzeer would direct prime minister  attention something window would guide forward step one side  single shot would come   hoag would carry sound grave  mahzeer  course  would desolate  suspect assassin lurking somewhere across street waiting chance   hoag turned  across street   muller waiting rifle   narrow four  story buildings ran length block like books tightly packed shelf  could eliminated   muller  would one half dozen almost directly opposite  legation generously set back building line   angle fire great jutting buildings either side would interfere  would shot come roof   ran eye along roof copings   almost figure bulked  dully glinting dark form buttons badge policeman  cop patrolling road muller would inside building   waiting prime minister somewhere street terminal building la guardia airport  hoag crossed narrow street  squeezing parked cars reach sidewalk  side could see farther legation  third  story window  saw faces   room  occupants still seated called hallway alarmed police captain  latter true  walked rapidly along buildings scanning facades  one club    two others ruled windows lighted  left three  possibly four  one looking much like next  climbed steps first opened door vestibule  quickly closed  assumed buildings divided apartments  one  glance hall furnishings  obviously still functioning town house  owners residence   made doubtful hiding place man whose plans made advance  went next building found expected  mingled cooking aromas public vestibule  one wall brass front row mailboxes   six apartments    names mailboxes meant nothing  senseless  idea look  peered boxes   empty except one  one jammed letters magazines  occupants apartment number 3 probably away days  likely return friday  muller made deduction   muller attracted lore mailboxes  opened inner door   cooking odors stronger  city  hour  housewives would fussing stoves  climbed  quickly could urge body  two unbroken flights third floor  pulling along delicate balustrade  remained building  beauty  paused landing steady breathing bent examine single door light weak bulb overhead  certain  lock yielded muller  collection keys   fresh scars showed door prized open  shut  lock broken   noted thrill fear door moved touch    thought finding muller  realized half hoped  find  muller would  attempt would scheduled somewhere beyond hoag  control  could break armed man  would climb back street signal cop  time   thoughts scattered sharp report rifle side door  hoag pushed open door  far end long dark room muller faintly silhouetted window  rifle still raised   stood feet apart kitchen table dragged sill  turned head source disturbance instantly back window rifle sight  dismissing hoag moment contempt shown encounter hoag  apartment  hoag stretched left hand wall fumbled switch  evil flourishes dark  room bathed light instant muller  second shot came  muller  nakedly exposed bright window like deer pinned car  headlights  threw rifle turned jump table   face wore look outrage  shot caught straightened screaming pain   following volley shots shattered glass  ripped ceiling  sent lurching heavily table  dead body made contact floor  hoag stumbled back hall  leaned wall  started retch  captain docherty sent arleigh griffith hoag able complete detailed inspection third floor receive report man covering floors griffith returned  buoyed brief stop another glass champagne  safe ingleside district station stands next gum machine narrow passageway leads captain harris  office  left   lieutenant  office  farther along left  janitor  supply closet  straight ahead   safe repository three dead flashlight batteries  hundred fifty unused left  hand fingerprint cards  stack unsold policemen  ball tickets last year  thirty  seven cents coins stamps  gun set captain  fifth hiram walker inside safe reported lt  killpath  though knew killpath  ulcer prevented making untoward incursion herman wolff  gift  matter tact  also none killpath  goddam business  walked lieutenant  office  leaned wearily gun rack housed four rifles gas gun nobody remembered used submachine gun occasionally tried academy range  stared clerk sat scarred ancient fumed  oak desk stuffing envelopes    lieut    clerk wagged head toward captain  office  gun went connecting door  open  stood attention orville torrence killpath  full uniform  finished combing hair  lieutenant  sparse brown hair heavily pomaded  killpath raked comb  stuck together thatches looked like umbrella ribs clinging pink skull  lieutenant eyed gun  reflection mirror washbowl glanced back face  moving comb methodically around head  leave alone  gun thought  fight sam schaeffer  fight whole damned bureau  leave alone   looking son bitch killed old man   going get  leave hell alone  lieutenant  killpath peered half  closed lids reflection  thrust chin gesture satisfaction  faced  gun waited killpath sit behind desk near window  sat stiff  backed chair swivel  though obvious gun killpath felt position acting captain plainly merited swivel chair  desk better repair rest furniture crowded room  including wooden file cabinets pulls yanked wardrobe stained roof seepage countless seasons  killpath pulled one thin leg  clamping arms around shinbone press knee incredibly scrawny gut  posture men come recognize killpath defying ulcer  put chin kneecap  stretching neck like turkey chopping block  stared wordlessly sergeant  gun waited  7  45 bell rang could hear outside doors bang shut  closing assembled day watch  finally  orville intoned hawk nose    people running time please  sergeant     sir    running  running    makes confusion congestion   rocked back chair  knee locked stomach  beady eyes fixed matson  silent  possibly listening sounds squadroom  roll called  gun cleared throat  killpath said   expected report office twenty minutes ago  sergeant   getting juice orange       sir   killpath smiled  gun knew nothing aces back back would give lieutenant ulcer smile time  day  watch platoon commander  lt  rinker  calling beat assignments  matson  make names mean anything   called station three morning   killpath  nasal voice pronounced   idea might charge time     sergeant vaughn  sir       guessing  sergeant   smiled thinly  savoring joke   said nobody couple patrolmen     sir  vaughn knows better leave station without relief  must    let patrolman take duties station keeper   regulation       sir     know thing     killpath leaned forward   foot slipped chair put back  frowning    taking one  command responsible attitude  matson   gun told old bastard fool  stupidity consolation rank   district  sir    oh  yes  heard   stretched pale hand scattered papers desk   might point inability report office morning instructed ah limited knowledge activities may hoped   took white sheet paper  dark single  spaced data  car pulled driveway outside window  gun knew car 12  wagon  returned delivering ingleside  drunk   disorderlies city jail  fool reason  remember men  put transfer detail  stared report killpath  hand  sure written accacia  sure  submitted scrawled longhand  sucked breath kept quiet killpath laid sheet  wound gold  wire stems glasses around ears  eying report lay desk  intoned   acting lieutenant gunnar matson one failed see station keeper properly relieved two absented throughout entire watch without checking station  activities whereabouts section sergeants three permitted members homicide detail inspector  bureau arrogate convenience patrolman thereby prevented carrying proper assignment four failed notify station commander acting captain   killpath homicide occurring district five frequented extralegal establishments known  hours spots purposes unofficial purportedly social nature six   leaned back peeled glasses   failed co  operate acting captain returning promptly ordered  say  sergeant    killpath sailed paper across desk  matson  pick even glance   well      think accacia knew many big words  lieutenant   killpath licked lips   patrolman accacia alert conscientious law  enforcement officer   think diligence mitigates negligence  matson    negligence  hell    gun held breath moment  pushing volume pitch voice trapdoor throat   sir  would negligent goddam lousy cop boot   sat around station night somebody got away murder district   bad  call   bad let schaeffer use accacia could boy  glad learn something homicide procedure   one damned bit sorry went question people know places hang around     let  push patience beyond danger line  sergeant   killpath nasaled    like write insubordination well dereliction duty   gun stiffened  hands balling fists sides  clamped jaws keep fury spilling  argument orville torrence killpath frustrating futile cap pistol firing range  killpath leaned forward  rocked comfortably arms still wrapped around one knee   let  remember  sergeant  must carry umbrella  district station  run smoothly  unless   interrupted  looking around gun doorway   morning  lieutenant rinker    sorry  orville  thought  come yet     time   stood  cocked head eyed gun coldly   sergeant leaving   come great surprise matson hot water showers  work  loren severe thrown stairs  thieving bastard cop walked cigarettes  best could hope watch ended session killpath  office   passed open counter divided assembly room business office  nodded said good night station keeper clerks  stopping hear day  watch playback chewing  gave damn grapevine sent killpath  little speech comportment platoon commanders   want talk  acting captain wanted acting lieutenant sit ass around station night  killpath would go drag gun back heels hour    damned going mid  watch pencil  pusher please ulcerated pro  tem captain  doorway squinted gray morning overcast patted jacket pockets cigarettes  remembering  left doughnuttery  could pick another pack way home  going home  even started across oiled road plymouth  parked lot cypress trees across station  knew  going home  yet  nine  clock morning  hour  like spade turning clods earth  exposed day myriad busy creatures lain dormant quiet night  mission street hour populated whole community gun could seen tour duty  neighborhood known urbano quintana day  sol phillips purchased alliance furniture mart seventeen years ago  professedly worth three thousand dollars stock good  name written gold foot  high letters across two display windows  right window  eye level  smaller print also gold  gonzalez  prop    se habla espanol  mr  phillips took razor gonzalez  prop   left promise spanish would understood thought meant spanish clientele would welcome  language problem anyway   mr  phillips signal doorway summon aid ubiquitous bilingual children played sidewalks mission street  aside fact business slow time year one salesgirl enterprising  mr  phillips worries  said much gun matson  sat across civilian clothes  jiffy  couch   bed  mauve velour   79  89 nothing  special     honest day   mr  phillips said  added   mr  gunnar  say  beebe little honest   tell customer much  going cost refinance payments even signs loan money   time plan mere convenience  understand    interrupted  smiling   put lamps  way  lose much     hire somebody else     says finish story   shrugged   asked  tomorrow  seems muse working good tonight  afraid let go   casey made comment  mind busy considered man  name george needham   come good family  perhaps thirty  two  nicely set  light brown hair pronounced wave  always well groomed well tailored  rich man  look authentic enough came two good prep schools proper university  child  done things young men born money social position father double  crossed dying broke  since worked  though said main interest gambling  went casey  mind first instant  held interest fact two together  understood betty engaged boy named barry jenkins  grown young jenkins  heard point getting married least twice  wanted ask jenkins  knew  needham  presence   still wondering little perplexed  grinned girl spoke lightly make sure would know kidding   pick     oh   known quite   glanced companion fondly     george      years   needham said    never able get anywhere last days   girl  eyes softly shining reached touched casey  hand   tell secret    going get married  approve    casey kept smile fixed  small inner disturbance working thought needham  eight ten years older girl  wondered whether needham going swear gambling get steady job whether counting income betty  estate subsidize  none showed face  tried keep skepticism hand  made point frowning  acting part fond father  confessor    give thought   said    want say yes without making sure intentions honorable  would    made face laughed   course     get references order   needham said  though spoke smile  casey somehow got idea particularly amused   stop time  casey   stood touched girl  arm   come  darling   really serious working story   better take home   casey watched go  still frowning absently dismissing matter called check  went told freddie dinner perfect  got hat coat nancy parks put fifty  cent piece slot  told sure went toward dowry  taxi took back bar grill left car  minutes later found parking place across street apartment  mind otherwise occupied past couple hours  think look see jerry burton  car still  fact  think jerry burton entered living room closed door behind   glance focused divan saw empty  remember earlier problem  even stood could see neatly folded blanket spread burton  pillow  sheet paper top  striding across room  thoughts confused worry building swiftly inside snatched note  jack  look wastebasket  knew way could beat play possum  good try  kid  appreciate  wastebasket stood near wall next divan  instant casey picked knew happened  discarded papers inside sodden  glint liquid bottom  smell whisky strong distinct  put basket distastefully  muttering softly thoroughly disgusted plan seemed foolproof  remembered well brought back loaded drinks burton returned kitchen get weaker drinks  another second two gave annoyance directed   mind moved confronted something far serious  thought expanded  implications jarred  longer mattered burton outsmarted  important thing burton gone somewhere meet blackmailer gun pocket  gun empty  even mind rounded idea  thrust one hand trousers pocket pulled six slugs taken revolver  considered brooding eyes  brows bunched brain grappled problem tried find solution  said   crazy fool   half aloud  put shells table  though could longer bear hold  thought  hell could gone   find   answer began pace back forth across room  imagination control  tried tell maybe burton sobered enough get sense  maybe intended scare blackmailer  whoever  case unloaded gun would good enough  thought possibilities  none satisfactory  finally began think  wonder way could reach burton   turned toward telephone  rang shrilly shatter stillness room reached eagerly   yeah   said   casey     yeah    tony calenda   casey heard voice distinctly knew  took make mental readjustment control disturbance inside head  heard calenda say   picture took afternoon    still took another seconds remember job done frank ackerly   picture    demanded   took picture corner washington blake three thirty afternoon    says     one boys   casey believed much  calenda sort walked around without one  boys  close hand       trial coming federal court next week  want picture published    says  going published      even want get around   normal circumstances casey little fussy people told pictures taken  even  generally listened usually reasonable voiced objections properly  right  however  still worried jerry burton  gun bullets  story burton told  care much tony calenda  nerves getting little ragged impatience put edge voice   look   said   hired take picture  took   know  care    maybe  better tell guy hired said    tell    right   calenda said  voice still quiet   meant said  casey  picture gets around find anything   going send couple boys around see      casey said   sure send two best boys  tony   hung bang  annoyed running mouth like still terribly concerned situation helped create  soon could think logically reached telephone directory found jerry burton  home number  dialed listened ring ten times hung  called bar grill picked burton afternoon  told one seen burton since  thought three places possibilities  time got answer end gave  time smoked three cigarettes calmed  done could  anyway burton kind guy would likely get trouble even drunk   casey  scared  come mostly fact felt responsible  stayed watched burton    made mistake    kept telling went kitchen make drink  decide  want one  considered opening beer vetoed idea  finally went bedroom sat take shoes  finished unlacing right one telephone rang  snatched voice came quick urgent   casey    know know  want picture get corner adams clark fast  hurry might beat headquarters boys   casey heard click distant receiver could open mouth  took three seconds make decision  years received many calls  came people identified  telephoned done favor past  others expected sort reward information  passed along tip simple reason liked wanted give break  occasional tip turned phony   like police  casey made point running suggestions hesitate time  car camera equipment bag less two minutes  took three reach corner  block columbus avenue  district small factories loft buildings occasional tenements  could see police radio car rounded corner slammed brakes  bother radio  would time later  scrambled pavement saw filling station public telephone booth knew instantly summoned  police car pulled behind small sedan  headlights still  slowly pulled hand throttle boat moving little crawl  watched elaine rapidly spin one station another  tune null  draw line chart    little far  make 90 degree straight shore   poet came  raising eyebrows appreciatively saw elaine      asked   pretty quick   replied   drop anchor    poet nodded  swung moment later emerged forward hatch picked anchor  rock roll music coming radio station suddenly faded boat coasted null aj   reverse   elaine said  peered loop rdf waved poet  second later came behind wheel backed anchor line set ocean floor  cut engines slowly cruiser swung around end lines bow pointing wind cockpit faced toward shore  nick watched somewhat enviously efficiently cut engines  started auxiliary motor  poet came  wearing new bathing trunks  price tag hung belt pulled entered chartroom looked curiously  nick wondered elaine bought  said nothing  nobody  suddenly realized  saying anything  seemed spell  excited conversation  somewhere  directly  treasure lost four hundred years  instead chatter null  like radio direction finder   new york  gone flying friends small private airplane single engine  laughing  joking  suddenly engine failed  one screamed  one prayed  fallen complete silence  listening wind whistle wings  pilot good   landed plane small airstrip connecticut soon aircraft coasted stop  everyone burst chatter moment  tension plane silent descent   tension similar one  plane concrete reason   moment  none unless skin diving much dangerous led believe  yet tension existed  taut  nerved relationship passengers plane strained three boat  hung like cloud  arrival sudden cloud skidding sun  silently  elaine picked keys table went cockpit  poet behind  nick trailing behind  threw back cushion one seats  unlocked padlock chest beneath  presently straightened  holding long knife wicked looking spear gun hand  poet whistled softly looked gun   hydraulic    asked  elaine nodded   best   kicked locker lid shut replaced cushion   efficient    deadliest   poet commented buckled tank harness   need arsenal    nick asked  apprehensively  staring weapon    quite possible  codfish  man   poet replied short  nervous laugh held harness elaine  moment later  moving awkwardly swimming fins  picked gun  handed knife poet  rolled transom boat  back first  poet nodded nick entered water similar fashion  another moment sight  leaving behind string bubbles clue whereabouts  nick followed twisting course bubbles  wondering set came elaine  remained close together  air trail wiggling like serpents traveling side side  eventually bubbles became lost sparkle ocean surface  rolled back  clasping hands behind head  stared blue sky  nothing quite like alone boat ocean  alfredo certainly must enjoyed alone  next ocean  probably loneliest spot desert  elaine  uncle stuck desire aloneness  probably would still alive  yet alfredo wanted money wanted money roam deserts  graham wanted money probably roam among dice tables las vegas  odd combination strange pair stumble upon wreck trinidad  graham  stumbled  two three weeks prior charter virginia  graham snooping around san luis rey mission  small helicopter two steel skids churned offshore nick raised watch heading south  hell note  thought  couple  even find secluded spot anywhere beach neck nowadays without someone swooping upon  character flying thing gone san clemente island yesterday would eyeful  west beautiful schooner slowly beat way wind  headed tack toward san clemente  behind cabin cruiser drifted crossways small ground  swell  lone fisherman chair aft  fisherman right middle deep  nick recalled stories two best fishing spots southern california la jolla deep redondo deep  two spots ocean dropped fantastic depths almost shoreline  someday  geologists warned  land sides deeps would fall ocean la jolla redondo beach  meanwhile  fishermen took advantage pull whoppers  sometimes fish exploded neared surface difference pressure   wondered  elaine wanted along trip    skindive   run boat  except open sea  stood  stretched  looked around bubbles  could see none  strolling galley  lit butane coffee pot brew heated  poured cup went chartroom  turning hi  fi  went back cockpit  stretched cushions listened music  elaine poet returned together  popping transom almost like dolphins breaking water  sat watched pulled stern   luck    asked  poet shook head  sliding face mask forehead    right edge deep   elaine said  pulling face mask  carefully placed spear gun across stern  lifted wet hair back squeezed water   break area search less square mile   added swung legs transom   news     thing   tossed towel  repeated service poet   cigarette    elaine shook head slipped harness  poet nodded  feet still hung stern transom  reached smoke raised swing  fin foot caught moulding  throwing balance  forearm smashed painfully narrow washboard grimaced grabbed bruised limb hand rolled boat   kee  reist    word hissed distinctly poet  lips struggled feet  nick  body became rigid  turning slowly saw poet brilliant glare horror  poet   face still creased pain studied underside arm  poet murderer   turning quickly toward elaine  nick saw   stood shocked surprise  sudden silence silent  instinctively aware charged atmosphere  poet raised head slowly  looking first elaine  caught implication oath  face frozen mask mannequin  body absolutely motionless  nick knew knew elaine  poet  elaine recovered first  quickly nick thought might imagined sudden reaction   need bandage    asked steadily  poet rubbed arm    like banging shin   said  eyes lingered nick  face  moved back elaine   hurts like hell second  disappears     get ointment   elaine turned started toward companionway  walk steady  slow  telegraphing fear  nick sensed  poet  springing like cat  leaped back  swooped spring gun  whirling  pointed toward cabin  instant  nick hit barrel threw upon smaller man  gun fired next ear vicious whoosh like first stroke old steam engine  instant  elaine screamed wildly  sound ending abruptly nick went boat water top frantic  struggling poet  moment sea closed nick  atavistic sense warned would survive alien element panic  murderer clung tremendous advantage  wide flippers poet  feet gave legs incredible power  driving two water rolled  poet captured  arms pinioned side  twisted convulsively trying escape  poet would escape  nick thought grimly  wore apparatus would keep alive water  nick would let go  rubber glass face mask slipped poet  forehead  bounced painlessly nick  chin  disappeared  poet twisted nick  knuckles scraped air tank  ripping skin  split second  nick relaxed grip poet  slippery body spun completely around nick could stop  holding rear  something flailed side nick  head rolled around around  suddenly poet stopped struggling two hung suspended water  rising  sinking  sharp pain lanced across nick  chest bubble air escaped tortured lungs  joining dozens others sailed lazily toward surface like helium balloons rising sky  black  snake  like object swayed eerily front  spewing bubbles flat cobra head  air hose free   discovery struck nick like blow  desperately  nick flashed one hand  catching poet  neck bend elbow  instant  grabbed loose  writhing hose hand bit hard rubber mouthpiece  instinctively exhaled nose sucked air hose  excruciating pain chest stopped seized sudden  wild exultation  signal  poet abruptly began thrash water quick movement slowly made sink water  relentlessly  nick held  sucking hose  inhaling air belonged poet  poet fighting nick  harbor point sticks ocean like fat neck steamer clam   rich village much action  many solid residents  enough tourists working stiffs   far end county last time came hit run manslaughter  seven months ago  chief bob moore looked hick  self   man mountain running lard middle  age  seeing said real surprise   well  well   honored   hardly expected head county homicide murder  sure climbed fast  jed  rookie investigator last summer  inspector jed  took 19 years become chief three man police force  proves college education pays   sarcasm followed stupid grin thick mouth bad teeth   guess helps   said  paying attention ribbing   never could figure ever wanted cop  jed   young well   even look like police officer  runt narrow shoulders brush haircut hell   pass juvenile delinquent hotrod set  day first requirement cop look like law  big tough  man  275 pounds six  four comes along   another badge  say move  guy moves      worry tough  moore  also   far early day corny lines like bigger come  gassy lecture  let  get work  murdered woman mrs  buck     widow  nice sort woman  comfortably fixed  ran fair  sized farm  came harbor bride  worry jed  one bag  know killer  road peninsula covered    yeah  passed road block drove   said  sitting polished desk  although bob dressed like slob  kept neat office   okay  happened     nine morning mrs  buck phones  trouble one farm hands  money trouble  colored fellow named tim williams  hand working  tim come migratory workers follow crops south last year  tim wife settled  never trouble  thought hard worker  hustling around get full week  work  anyway  julia asks    julia     come  inspector  look alive  julia buck  deceased   moore said  slipping smug  idiot  grin   julia asks come   sound real alarmed know  like immediate danger  got 9  47    found strangled  would come sooner  known  doubt tim killer  witness   know county send anybody  told handle    yeah  seems nice package  strings tied        collar tim night     witness     julia   old indian woman cooking  nellie harris  probably last original island indians  nellie kitchen  come work  heard tim arguing julia living room  swears recognized voice  tim yelled    money want    rushed house  heard julia phone  nellie went house work  found julia dead  say  nellie  near strong enough strangled julia   doubt tim sneaked back killed mrs  buck  another fact  tim  disappeared  run   way point except road block  guess want see body  street doc abel  office    let  see   walked main street big white house  around back  harbor  sole doctor  abel also medical examiner  corpse table  covered sheet  doc abel busy front live patients  pulling back sheet  examined bruises around julia buck  slender throat  powerful hands killed   find prints    chief moore shook big head  seemed lost thought stared nude body  said   never noticed mean  dressed woman age  julia real fine figure   dropped sheet  glanced watch  almost one  lunch  still  wanted get  lot paper work waiting office  told   want go see buck house    sure   walking back main street  said   saw harbor  one squad car road block   ride car    naw   use mine   moore said  opening door sleek white jaguar roadster  slid beside said   heap  hey   got heck buy  dirt cheap    yeah   real load   told  looking street battered ford  five racing minutes later pulled driveway typical two  story house  jaguar stopped managed swallow  garage modern barn rear  standing two large flat fields planted early potatoes  everything shouted gentleman farming  kind grandfather  father   son folding money point known  fins caddy sticking garage  inside house comfortable mixture old expensive contemporary furniture  nellie harris  old  ancient  tiny shriveled woman face like tan prune  also stone deaf right ear  calmly repeated moore told  asked    go living room see mrs  buck    old gal stared hard eyes  said    call  living room last  went stairs bath bedroom  way always morning    idea tim mrs  buck arguing     probably wages  miss julia hard woman dollar  years ago asked put social security    working  miss julia threatened fire  would mean dollars year    hear tim return     sir  nobody came chief moore   drummed kitchen table pencil   mrs  buck men friends        wrinkled mouth laughed  revealing astonishingly strong  white  teeth   never see none   social secretary    friendly terms members family      family  around  son  killed war   walked living room   seem signs struggle  told moore   tim  wife live      take  look jed  open shut case relieve men road block soon  okay  come   80 miles hour across hard dirt road cluster shacks  late summer migratory workers lived five six room  empty  except cottage across road  mrs  tim williams 21  skin color bitter chocolate  discounted plain dress worn slippers  startlingly pretty  inside place full new furniture  five bucks buck week stuff  clean full warmth home  mrs  williams sullen frightened  said  know thing  tim left house six morning  usual   seen since   mrs  buck owe wages    asked   well  week   due  till saturday  listen  mr  inspector  matter anybody say  tim  kill woman   tim good man  hard working  strong bull gentle baby  even angry  tim  hurt woman  never life took hand woman    get soon  see says   chief moore cut   husband car    asked   got us old station wagon  need job   asked silly question    idea husband could     shook head  knew lying  stood  staring moment  thinking mostly beauty poverty  moore said   come  jed  get men   way told   eh happen see husband  get give   get fair trial  hiding like  get anything  except trouble  bullet    yes   tell  see   made back harbor less four minutes  tried act scared  jaguar could really barrel along  told moore going eat  get forms filled doc abel  chief moore said    see return  see certain road block  inspector   bowl decent chowder  phoned doc said  leave death statements girl  half hour  lighting pipe  took walk  harbor big yachting basin summer  even  several slick cruisers tied dock  ocean  going yawl anchored inside breakwater  34 foot wheeler chief bob  big gold letters stern also tied dock   new boat  five years old  fitted fishing outriggers chairs  asked old guy running fishing station boat moore   said   bet  bob moore plumb crazy blue fishing   dropped doctor  office  picked forms  walking back police station  building city hall post office  saw mrs  tim williams sneaking back car  moved gracefully  clumsy  got front seat   hiding  floor back seat  soft curves back hips  rousing lines  drove harbor  turned dirt road among scrub pine trees stopped  waited minutes sat  another moment  talk  began weep  mumbled   know chief moore kill tim     maybe  never saw anxious   said  lighting pipe offering cigarette   course  could first murder case  know tim    mrs  williams    puffed cigarette slowly  sitting slumped back seat    answer  police dropped case  want go pearson city find  first  hand stuff modern crime series  take train diana beauclerk took get time  go hotel occupy suite  1105    hotel rent soon crime       police finished  besides  number suite  published newspaper  hotel people   innocent tourist happens ask particular suite    still  may want rent     headache  inside  keep eyes open        alec growing skeptical   police gone every square inch place fine  tooth comb  hotel people scoured vacuumed  ten one   even redecorated      always chance may overlooked something   returned chief    betting chance  interview bellboy chambermaid waited beauclerk  study topography suite  soak local color  reenact everything beauclerk  try imagine  going murdered  eleven p   one   night arrive   alec smirked   cheerful way spend evening    sudden thought wiped smirk face   suppose murderer return scene crime    chief  eyes gleamed  spoke softly   exactly  hoping   murderer still large  key suite still missing   train alec refreshed memory beauclerk case reading teletype flimsies  spot  news stories crime sent pearson city star  member syndicate press  diana beauclerk second  rate actress living new york  two weeks ago gone west pearson city  daniel forbes  divorced husband  lived  firm lawyers got divorce  kimball stacy  reached pearson city nine p   went straight hotel westmore  telephoned junior partner law firm  martin stacy  asked call hotel evening  time divorce forbes promised pay lump sum lieu alimony remarried  according stacy  told planning remarry wanted ask forbes lump sum  stacy replied would bankrupt forbes  sunk money real estate venture  stacy said left suite nine forty  five p    good health spirits  still determined get money forbes  one saw stacy leave  visitor inquired evening  next morning found dead suite bullet colt revolver brain  according medical examiner  shot eleven p   one    door locked key missing  gun  alec finished reading sure either forbes stacy killed diana beauclerk  forbes motive stacy opportunity  find motive stacy opportunity forbes case would solved  hotel westmore proved one older hotels pearson city  definitely second  rate  alec  first impression lobby gloomy  victorian dignity  black walnut red plush  black white tiled floor  persian rugs  studied night clerk man measures adversary    like room last time    certainly  sir   clerk young limp  tired smile   recall number     1105   clerk  smile congealed   suite taken   alec  glance went chart guest names room numbers hanging wall behind clerk  opposite number 1105 stood one word  unoccupied  clerk  glance followed alec    better rooms vacant   babbled   larger comfortable  rate   alec  face dark  blunt  sulky  always looked impertinent could look dangerous  looking dangerous  raised voice   anything wrong plumbing 1105    sudden stillness lobby  two women  chattering like parrots  struck dumb  man  lighting match cigar  paused flame burned fingers  even bellboys bench listening  clerk  eyes flickered   course     anybody contagious disease        clerk almost hysterical     well  1105 redecorated     believe   alec leaned desk  holding clerk  eyes   suppose tell real reason   drawled   might story    st  story      syndicated press  feature service  either get story  get suite   blackmail clerk knew   story   piped tremulously   front   show gentleman 1105    stillness persisted alec followed bellboy across lobby elevator  could feel eyes back  wished necessary announce number suite quite publicly  corridor eleventh floor dimly lighted electric globes intervals thirty feet  thick  crimson carpet muffled every footfall  end corridor alec noticed door marked  fire stairs  neat setup murder  bellboy unlocked white door numbered 1105  room dark neon sign flashed faded beyond window  snowflakes sifted theatrical red glow  languid falling feathers  hastily boy switched ceiling light  room looked normal even commonplace  hint violent struggle  deal furniture mahogany finish neatly arranged stood window department store  blue rug suspiciously bright new  never stained blood  table covers towels clean  ashtrays empty supplied fresh matches  mirror bureau blank eye  round innocent  alec played part innocent tourist   anything wrong room     n    boy dropped eyes   afraid  lose job  keep mouth shut    boy raised eyes   listen  mister  want advice  pack take next train back new york    duty two weeks ago    boy hesitated     talking   spend night million bucks    hurry get room  alec gave tip let go  alone  alec examined doors  three  one leading bathroom  one hall  one room next door immovable  locked bolted side  alec locked hall door put key watch bedside table  quarter nine  ranged belongings bureau noticed film white dust dark surface wood beyond linen cover  gray like dust collects unused room  white  women  use white face powder nowadays  recalled  used pink  tan  cream powder  alec glanced bathroom  blood bathtub murderer appears washed hands  seemed clean  alec decided bath  crawled bed switched light  darkness could see rosy reflection neon sign wall opposite window  winked steadily metronome      less five minutes alec asleep  never knew woke  yet suddenly wide  awake  sound apparently movement room except noiseless pulsation red light wall  lay still  listening silence  watching light  somewhere city big clock sounded twelve solemn notes  midnight  according medical examiner shot eleven p   one    alec heard faint sound  heart seemed swell knock wall chest  sound inside room  let eyelids droop breathed heavily  feigning sleep  sound coming nearer  monstrous shadow fell across illuminated wall  distorted indefinable  neon sign faded  shadow disappeared  neon sign flashed  shadow still  stretched impossible height  climbing wall ceiling  meant something light reflection wall moving closer source light  case  window  cautiously alec tensed muscles  ready jump  bedsprings betrayed creak  shadow vanished  someone moved beyond range light window  abandoning caution  alec leaped bed groped light switch  could snap  stinging blow caught ribs  lashed blindly right  thick  squashy crack fist flesh  something hard grazed knuckles  put everything next aimed stomach ought  rough cloth rasped fist  grunt  curiously inarticulate  like animal pain  something heavy shook floor dropped  alec waited moment  guard  nothing happened  groped light switch  blue rug rolled stacked one corner room  bare floorboards man lay face  short  heavy  powerful body  alec turned discovered round  lumpy face narrow  slanting eyes  primitive tartar face russia balkans  man  shoes pointed  overcoat broad shoulders narrow waist  slight bulge left armpit  shoulder holster  alec promptly removed gun  familiar type  seen lineup police headquarters new york  broadway night clubs seventh avenue pool rooms  criminal courts  surprised meet  diana beauclerk connection underworld  professional gunman would killed weapon small caliber  would choose respectable hotel scene killing would much safer take victim one  way ride lonely country road  man  eyelids fluttered  opened eyes      demanded alec  man made reply  eyes dazed  lips bruised swollen alec hit   kill diana beauclerk    alec expected indignant denial  response   oh  come  snap    turn police    silence getting alec  nerves  man opened mouth  words came  curious  animal grunting alec heard fight    speak english    man opened mouth wider  forefinger pointed toward gullet  alec leaned forward look  hideous scars inside throat palate mutilated  good time shall get distressing actuality  red mciver handley walker  murder sudden death  realize  sure  much old deeds incite new ones  must forgive tell first old ones  1814 abraham wharf sister sat meager fire house dogtown common  desolate place even  sharpening razor   sister   said  think people commit suicide go heaven    answered    know  hope  never thing   without tremor   god forbid    said  went cut throat cave near granny day  swamp  present   much  assure  must know gets people  even red handley  tell comes  learned   abraham wharf   beg forget  ghost laid  red handley  god help  knew old dogtown lore   knew knew   told lot   true get deeper perception man motives know knows   yes  gentlemen  getting point  point  know facts   set forth newspapers  want story  story    perhaps     know   yesterday morning  trying tell    point  concerns spirit matter  inwardness luster old furniture  look mahogany highboy behind  provocative emanation  may say  places   haunting qualities  even people  point sad story spirit matter  hold spirit thing  somehow know truth  know fake antique real thing  truth  come     dogtown one places creeps marrow worms get old wood  veneer  fact  folk lived back cape ann  like others   different hall  mark  witch burnings everyone witch family  think old granther stannard pulled teeth dark younger  real name dorcas   bungled job left two protruding tusks put hex thought legs made glass  never known run even walk fast  today dogtown deserted village new england know  sits  small highland  towns like gloucester near    lost tortured place world  lived desolation rocky deformity took moraine  stony character  scientists say last spewings great glacier  one rather feels malevolent giant could piled crouching monsters granite still seem preserve sort suspended  ominous life   walk later   perhaps mile sit  one single dwelling left  though  early eighteenth century  close hundred houses   identified sixty sites  old maps registers  fascinating pursuit  assure   even remember nothing ruined cellars tumbled pillars  nobody lived memory living man  sweep boulders ledges  oak  walnut sumac creeping across common  everywhere ruins long  long shadows   setting  sinister one  please get reports  accounts many things  red mciver handley walker lived nearby  almost near  red lived lanesville  house could common half hour  brisk walk   handley lived  pigeon cove   often find one around dogtown sketching  painters       one say    well  anyhow  dogtown common much beaten track nowadays sunday picnickers still stray  time time  sea  road  railroad  lack water  killed dogtown  dead  dead brass door nail  sometimes feel like sexton   last even interested  knew red handley well  said  painters   come  separately  gloucester twenty years ago   always artists  colony somewhere cape ann  married  married cousins  anta freya norberg  lot scandinavians neck woods  many still make painted furniture take steam  baths  pretty girls among  blonde hair pert faces  handley married freya red  red beard  married anta  old norberg inheritance got understand well  quarrel ended ridiculous draw  must tell  oh  yes   quite sure  important  beech pasture       gave feeling  gave   spirit  demoniac  evil spirit whole affair  see  besides custodian antiquities  also registrar    hold live entirely among dead things  know well next man ship called rigging carries  live wind blows  hull   got know   water  line interests also  saying   known old records  including old norberg deed  ten years ago page torn   know  five years ago  handley came ask could see tattered register  courteous casual  though consequence   always like  spite big man   see   notice habit fingering  might almost say  stroking large mole black hairs  right temple   sensual man  courteous  would say slick  like glossy black hair  many outside manners  taste  sort  appraising eye  would cross street help strange woman bus pinch  real gentleman  feel  would neither   always worn broad  brimmed hat   noticed  small study society  rather smells cosmetics  next week  cousin red wandered casually  curt untidy  red small fine  boned  like ivory  inlay  asked see page  told someone torn  shouted   god   damn handley  sneak    later week came together examine register  fortunately alone building  people nowadays interested even past lovely craft days  began abuse foulest language  red thrusting tawny beard  handley glowering suddenly rumpled black hair  actually bristled  le rouge et le noir  violent men  red always morose  yet day dapper handley louder two  presence  would others  throats  quarrel learned trouble  accusations hurled  beech pasture suddenly become valuable   fine granite quarry  granite  coming back public buildings  men knew norberg family holdings  cousins belong  anta freya   fortunately  knew almost exactly said  began preamble  course  explained judge probate essex county  1785 1786  appointed three free  holders gloucester divide establish norberg estate  usual honorable sirs  went say set widow one full third part real estate deceased salu norberg  one lower room  western side  privileges well bake  oven one third cellar  show cellar go   also one cow right  lastly set widow land brought dower  namely beech pasture  remember whole privileges  counting beech pasture  valued twenty pounds  wish could seen crests fall two sparring coxcombs told obviously pasture belonged wives jointly  battle scene  ridiculous  remained mind  disturbing picture bad blood  heightened illicit buccolic colors  subsequent day saw handley escorting anta  red  wife  dogtown common  felt would inopportune disclose presence  intentionally go unperceived  boulders high small woman  one cause jealousy must tell  paint   gloomy unkempt red mciver  much better painter  suppose handley knew  red show gloucester  handley would hurry hang pictures rockport  may say little pertinence   gentlemen  remember prepared mind  alerted intelligence  touches pattern takes shape  would call motives crime  would call patterns life  perhaps even designs destiny  yet knowledge nothing substance unravel case  would call  till yesterday  one month ago  20th october  opening gunning season massachusetts  much shoot  pheasant  rabbits   care  folk around  sense appreciate  sense eat mussels  day red said gone away  oh yes   talked  fact  often disappeared  time time   paint sea  aboard dragger gloucester  anta  wife  never seemed mind  suppose absences gave clearance embraces cousin handley  anyhow   surprised  early morning  see handley crossing dogtown common road back road    gun   would good excuse  seven  clock  mushrooms  since  week rain stopped early morning day clear sandwich glass   man said  haney peered doubtfully drinking companion bleary  tear  filled eyes  ready answer  much surprise fit coughing  man drunk crazy   new  found buddy matched drink drink lost count  man  eyes still clear  guy rocker  haney thought  looked away eyes  eyes clear  also bright strange intensity  sort cold fire burning behind   noticed    man drunk wondered got tied stranger   course  remembered  blurred  two hours steady drinking  occasion came back  stranger  head seemingly sunk thought  started cross street light huge moving van roared intersection  brakes howled horn blared furiously  man would hit phil  called second  shout involuntary  something anybody might done without thinking  spur moment  matter fact   cared guy hit  actually  regretted opened mouth truck came stop angry driver jumped cab walked back toward   stranger thanking haney profusely one arm around shoulders old friend  driver started curse plot together ruin safe  driving record  man saved turned looked squarely truck driver  face  without saying word  suddenly  driver stopped swearing  turned heel went back truck  haney  given much thought time  recalled clearly  wondered truck driver seen eyes make back  must sort look call bluff without saying word  light went way  went across street  stranger found phil way one favorite bars  insisted offering buy drinks  phil usually went alone kept  sitting corner passing time nursing favorite grudges  decided  mind company return free drinks  even though made good money job  phil like  wondered worth  screwball company  really  take offer seriously  began feel uneasy  finally got coughing control  realized pete  gave first name  still waiting answer   even seem wink continued stare  haney managed weak laugh   guess  think anyone  pete  thanks anyhow   faint crease appeared man  eyebrows   think  taking seriously  phil  meant  everybody kind grudge  might got hit truck   believe returning favors   anything somebody like   cost cent  phil  go ahead try    phil rubbed forehead wearily  beginning feel woolly  maybe would better humor guy make exit  really  expect anything come  people  right   conceded finally   must know   get along landlord  keeps riding like listen radio sing  taking bath  says neighbors complain   believe   tell bothers    man closed eyes nodded  looked  seemed almost contented   fine  give address  take little time  want study landlord  habits movements first  see  always make look like accident  maybe suicide  looks reasonable  way  trouble customer   haney  eyebrows flew   customer    pete smiled modestly    line work   said five minutes later  haney could make break  stranger stood nodded farewell  haney watched small wiry man slip door quickly silently  felt relieved see nobody else seemed notice departure  phil decided stay little longer  time passed seemed strange little man never  glass table  time midnight returned apartment hit sack  putting whole incident mind fell asleep  next day  sunday  hangover reminded haney night  hangover turn reminded conversation weirdy  groaned  went aspirin later day  passed surly landlord way  still alive scowling usual  tenants burden life  phil shrugged ignored  went back work monday  wednesday landlord still alive  course thursday  haney mailed monthly check separate maintenance wife lolly  wished stranger could something coming home work  startled see police car parked front apartment building  inside lobby  people standing around  talking excitedly  spine crawled foreboding premonition asked one fellow tenants happened  landlord died  late afternoon  seemed  fallen roof obscure errand inspection  apparently alone  nobody witnessed fall  sickening impact body smashed pavement outside basement delivery entrance  haney hoped nobody noticed sudden pallor  felt blood drain cheeks  muttered something terrible  walked deliberate slowness elevator  inside apartment  poured drink trembling hands flopped limply chair  began feel better  especially one bothered ask questions     still later  finally convinced accident  coincidence  stranger really nothing  course haney went bed  happy least rid lousy landlord   man family  one suffered  everybody better  really  said  nobody kills man favor   thought  mean said  stranger  eyes large sad  phil haney hurt feelings  like recurrent  annoying dream  dream beginning take overtones nightmare  however  haney knew dream  might tight  knew  bar  two weeks later  saturday night  excuse drink heavier usual  sitting usual corner little table  far possible talkative  friendly lushes  enjoying weekly ritual washing pet grievance bourbon slightly moistened water  favorite grievance landlord  already quite forgotten  fact  mentioned spur moment  real grievance lolly  toward end fourth hairy highball  moodily making wet rings table  top bottom glass  became aware alone  looked bloodshot eyes beheld stranger sitting across table  smiling secret smile  fellow conspirators   even noticed  name   pete     seen sit  man uncanny  like shadow  made much noise shadow  haney felt like shrinking sight  already trapped corner wiry  dark little man  began wish  shouted evening truck bore crossing  going saddled creep bar  buddy    start going places  low voice  almost whispering  man asked phil happy way landlord taken back  made mistake answering offhand way  instantly realized skepticism must showed face voice  pete frowned slightly  became sad moody  haney  want encourage company  felt ought buy drink anyhow  prevent possible trouble  trouble  guy sulked drink  obviously upset haney  lack appreciation  break uncomfortable silence  haney began talk  time  two drinks later  complaining bitterly wife  subject ten minutes noticed renewed interest listener  showed alert face suddenly bright eyes  paused moisten throat  stranger broke   pay bills   runs around men  hate say  divorce    haney scowled   bitch would love divorce   growled    get half everything  community property deal  know   sell business pay share  drop dead    pete nodded understandingly   oh yes  see  must understand   state long  came retire    free job  told   haney felt twinge annoyance heard familiar line  wild thought ran circles clouded brain  suppose  suppose guy really said   retired professional killer nut  harm done  real thing  could something lolly  felt cunning  proud played man  soft spot   offense intended   said gently     well  know  cops  suspect thing  thought coincidence    know  pete  could accident   shrugged casually   say managed  stranger hooked  eyes burned feverishly   yes  yes   muttered impatiently   course looked like accident  always work way  always time customer alibi  let prove  phil  think manage one favor   waited eagerly  haney swished liquor bottom glass  halfway back pops groped wall stopped  pulled away two loosely nailed wide boards one end  went   c  mon   whispered    floor level  three feet   fall   went  pitch darkness  said   jist stay still   pull boards back get us light  jist stay   jist stayed fumbled around walked away  moment later struck match lighted candle  could see  big room  empty except things pops  far end  wooden crate stood candle  spread blanket  unrolled bindle  looked back shoulder went join    hung another half blanket boarded window light would show  took pint bottle pocket handed sat beside spread blanket   first   said  drank handed back   nice place   told   listen  got buddy travel  real nice guy named larry  know  right near  could join party sleep tonight    blowing town tomorrow  moving   hesitated second  looking bottle  said  sure  sure   reassured    bring bottle   get another one maybe two   work one  gone  kill want   took short swallow handed   sure  sure  enthusiastic time  put bottle   git window  light    put th  candle  yuh come back  put agin till  inside   charlie waiting  leaning building front   perfect set    told   got go back fifth get another bottle two  way  give scoop   way gave scoop  bought another pint sherry got back pops let us dark  put back blanket lighted candle  introduced friend larry pops made comfortable  still little  much  left first bottle passed around killed  charlie opened  reminded  amusedly  poem kenneth patchen  called murder two men young kid wearing lemon colored gloves  patchen read record jazz background  poem consisted two words  word  wait   repeated irregular intervals different inflections  word     blaring final chord jazz group   except murder one man two men neither us wearing gloves  could wait right   hurry  said   wait wait  charlie grinned  digging reference   heard record together  second bottle passed times  pops taking long ones  showing effect yet  seemed drunk  first talked  drunker  capacity    really trying get dead drunk  go wine  halfway second bottle  charlie looked across pops  sitting us asked     said   wait   handed bottle pops final drink  handed back hold safely  pops looking toward said    charlie swung short length lead pipe  meanwhile taken pocket   lead pipe cinch  sound like one produce flicking watermelon finger  louder  pops fell forward waist sidewise  cold  dead    never known hit   never known anything hit  reached hand toward put inside shirt feel heartbeat  charlie said  wait     said sharply  patchen bit  order  stopped hand looked  holding piece lead pipe    want know whether  dead  yet  gauged blow borderline  kayo maybe maybe kill  hit twice hard know whether  dead  way  never know us really killed accomplice  dig    dug  saw point   made sense  took piece pipe charlie  hand used  harder  thunk louder  anyway  thought heard bone crack  charlie said   good boy   mine    never know  right   give hand   straightened pops made sure trace heartbeat  nodded charlie   let  put way   natural position     feel    charlie asked   cool   told   feel     nothing  well maybe  exaggerating  kick  big enough one want take chance  except stakes  let  talk abstractly    first question  bottles  shall take us  leave one     take   said   left one  wipe fingerprints   picture want leave fuzz  whenever body gets found  happened middle drinking bout another bum   working bottle jug  taken    right   taken weapon  take    looked around    careful fingerprints       boards window  course   painted rough take prints  goes rough cement ledge  besides  doubt cops even try dusting  find dead winos every day  maybe  even autopsy cause death     take chance   got assume  decide murdered  got keep picture consistent  hypothetical bum killed would turned pockets  let    found dirty handkerchief  matches fourteen cents change  took matches  book matches  touched might retain fingerprints  change  discussed candle decided hypothetical bum would left burning light way window  reason blow  candle stuck tin lid  set fire crate guttered  fire  mattered except would cause pops found sooner  might found days  even weeks  otherwise  went every point  triple  checked  picked questioning cop way seemed possible remaining danger   picked cop  fact  nobody saw us  cop citizen  winsett quiet street taverns completely deserted hour   matters  one    less three hours ago  decided  maxine wells  pad cosmo  commit trial murder  gone like clockwork  almost smoothly  found thinking  told ridiculous  safe safe   thinking like get padded pad  hour later back unpadded pad  killing left second pint  decided leave third one intact tomorrow  also plans commit charlie  murder commit mine  really going  shook hands  planned ahead one step  rendezvous tomorrow could swap notes   tell everything  learned seaton  habits habitat   tell score radic  made date two  clock afternoon maxine wells  pad  charlie would get early key   less charlie seen together public  visited one another  rooms  better  dead tired slept soundly  far know dreamlessly  met maxine  decided set stay long took  even evening  talk things  charlie brought food  decided drinks   brought along virgin pint last night  going kill talking  talked first  telling everything knew seaton house domestic arrangements  drew diagrams floor plans   memorized thoroughly tore tiny pieces flushed  gave equivalent even detailed dope radic  including diagrams  one apartment building radic lived one apartment   several times  back  radic friends  least enemies   take us long  thought might   quite six  clock finished charlie said   well  guess   shall flip coin see us goes first   would rather deal hand show  poker play game gin rummy      wait minute  charlie   said   one thing  discussed  expense money   need least  bus fare scene crime   flat broke  think  take added risk knocking filling station something split one us set alibi dirty work   sighed   right   come clean   got little stashed rainy day  guess rainy enough  couple hundred  draw short straw  lend bread  like fifty bucks  take visit sister frisco    back  another fifty put mileage solid alibi somewhere take care seat cover boy    solid   said  took deep breath  plunge   case  let  draw   go bat first   wait till seaton  back mexico city also set doris alibi  night   days even week could anything  friend manny go time   grinned clapped shoulder   hoping  say  willy   suggested  well  case  take tomorrow morning frisco   case  brought money  ']\n"
          ]
        }
      ]
    },
    {
      "cell_type": "markdown",
      "source": [
        "## Step 2. Feature Extraction"
      ],
      "metadata": {
        "id": "7Cna-rxKHsDN"
      }
    },
    {
      "cell_type": "markdown",
      "source": [
        "Execute TF-IDF using TfidfVectorizer:"
      ],
      "metadata": {
        "id": "OeH7weBuq9Rp"
      }
    },
    {
      "cell_type": "code",
      "source": [
        "# tf-idf rescales words that are common to have less weight\n",
        "# TdidfVectorizer normalizes term frequencies with 'use_idf = False' and 'smooth_idf = False'\n",
        "\n",
        "# corpus-all (all text)\n",
        "from sklearn.feature_extraction.text import TfidfVectorizer\n",
        "vectorizer = TfidfVectorizer()\n",
        "X_all = vectorizer.fit_transform(norm_corpus_all) # return document-term matrix\n",
        "X_all_features = vectorizer.get_feature_names_out() # get output feature names for transformation\n",
        "print(X_all.shape)"
      ],
      "metadata": {
        "id": "z8JrAXA5FOoE",
        "colab": {
          "base_uri": "https://localhost:8080/"
        },
        "outputId": "c1b2afb3-29e2-458d-f032-546016cc63ad"
      },
      "execution_count": null,
      "outputs": [
        {
          "output_type": "stream",
          "name": "stdout",
          "text": [
            "(3, 9658)\n"
          ]
        }
      ]
    },
    {
      "cell_type": "code",
      "source": [
        "# corpus1 example\n",
        "\n",
        "print(len(norm_corpus_all))\n",
        "len(X_all_features)"
      ],
      "metadata": {
        "colab": {
          "base_uri": "https://localhost:8080/"
        },
        "id": "LTFf9LFgIJTm",
        "outputId": "51c17bdd-49dd-45ab-c93c-ef166db60e71"
      },
      "execution_count": null,
      "outputs": [
        {
          "output_type": "stream",
          "name": "stdout",
          "text": [
            "3\n"
          ]
        },
        {
          "output_type": "execute_result",
          "data": {
            "text/plain": [
              "9658"
            ]
          },
          "metadata": {},
          "execution_count": 29
        }
      ]
    },
    {
      "cell_type": "markdown",
      "source": [
        "Create matirx + array for each TF-IDF matrix"
      ],
      "metadata": {
        "id": "z32e3zenrEzR"
      }
    },
    {
      "cell_type": "code",
      "source": [
        "import pandas as pd\n",
        "from sklearn.feature_extraction.text import TfidfVectorizer\n",
        "\n",
        "vectorizer = TfidfVectorizer()\n",
        "\n",
        "model_matrix_all = X_all.toarray()\n",
        "\n",
        "pd.DataFrame(model_matrix_all.round(2), columns=X_all_features)"
      ],
      "metadata": {
        "colab": {
          "base_uri": "https://localhost:8080/",
          "height": 173
        },
        "id": "va1kepdgNGnN",
        "outputId": "007c0db8-d4f7-4808-b8da-ee31065d2408"
      },
      "execution_count": null,
      "outputs": [
        {
          "output_type": "execute_result",
          "data": {
            "text/plain": [
              "    000    10  1105  114    12   13   138   15  1785  1786  ...  yuh  yvette  \\\n",
              "0  0.00  0.00  0.01  0.0  0.01  0.0  0.00  0.0   0.0   0.0  ...  0.0    0.00   \n",
              "1  0.00  0.01  0.00  0.0  0.00  0.0  0.01  0.0   0.0   0.0  ...  0.0    0.00   \n",
              "2  0.01  0.00  0.00  0.0  0.00  0.0  0.00  0.0   0.0   0.0  ...  0.0    0.01   \n",
              "\n",
              "   zeitgeist  zigzagging  zipped  zipper  zombie  zone   zoo  zounds  \n",
              "0       0.00        0.00     0.0     0.0     0.0  0.00  0.00    0.00  \n",
              "1       0.00        0.01     0.0     0.0     0.0  0.01  0.00    0.00  \n",
              "2       0.01        0.00     0.0     0.0     0.0  0.00  0.01    0.01  \n",
              "\n",
              "[3 rows x 9658 columns]"
            ],
            "text/html": [
              "\n",
              "  <div id=\"df-44815218-4e00-4e8e-8159-5eaa54979d57\" class=\"colab-df-container\">\n",
              "    <div>\n",
              "<style scoped>\n",
              "    .dataframe tbody tr th:only-of-type {\n",
              "        vertical-align: middle;\n",
              "    }\n",
              "\n",
              "    .dataframe tbody tr th {\n",
              "        vertical-align: top;\n",
              "    }\n",
              "\n",
              "    .dataframe thead th {\n",
              "        text-align: right;\n",
              "    }\n",
              "</style>\n",
              "<table border=\"1\" class=\"dataframe\">\n",
              "  <thead>\n",
              "    <tr style=\"text-align: right;\">\n",
              "      <th></th>\n",
              "      <th>000</th>\n",
              "      <th>10</th>\n",
              "      <th>1105</th>\n",
              "      <th>114</th>\n",
              "      <th>12</th>\n",
              "      <th>13</th>\n",
              "      <th>138</th>\n",
              "      <th>15</th>\n",
              "      <th>1785</th>\n",
              "      <th>1786</th>\n",
              "      <th>...</th>\n",
              "      <th>yuh</th>\n",
              "      <th>yvette</th>\n",
              "      <th>zeitgeist</th>\n",
              "      <th>zigzagging</th>\n",
              "      <th>zipped</th>\n",
              "      <th>zipper</th>\n",
              "      <th>zombie</th>\n",
              "      <th>zone</th>\n",
              "      <th>zoo</th>\n",
              "      <th>zounds</th>\n",
              "    </tr>\n",
              "  </thead>\n",
              "  <tbody>\n",
              "    <tr>\n",
              "      <th>0</th>\n",
              "      <td>0.00</td>\n",
              "      <td>0.00</td>\n",
              "      <td>0.01</td>\n",
              "      <td>0.0</td>\n",
              "      <td>0.01</td>\n",
              "      <td>0.0</td>\n",
              "      <td>0.00</td>\n",
              "      <td>0.0</td>\n",
              "      <td>0.0</td>\n",
              "      <td>0.0</td>\n",
              "      <td>...</td>\n",
              "      <td>0.0</td>\n",
              "      <td>0.00</td>\n",
              "      <td>0.00</td>\n",
              "      <td>0.00</td>\n",
              "      <td>0.0</td>\n",
              "      <td>0.0</td>\n",
              "      <td>0.0</td>\n",
              "      <td>0.00</td>\n",
              "      <td>0.00</td>\n",
              "      <td>0.00</td>\n",
              "    </tr>\n",
              "    <tr>\n",
              "      <th>1</th>\n",
              "      <td>0.00</td>\n",
              "      <td>0.01</td>\n",
              "      <td>0.00</td>\n",
              "      <td>0.0</td>\n",
              "      <td>0.00</td>\n",
              "      <td>0.0</td>\n",
              "      <td>0.01</td>\n",
              "      <td>0.0</td>\n",
              "      <td>0.0</td>\n",
              "      <td>0.0</td>\n",
              "      <td>...</td>\n",
              "      <td>0.0</td>\n",
              "      <td>0.00</td>\n",
              "      <td>0.00</td>\n",
              "      <td>0.01</td>\n",
              "      <td>0.0</td>\n",
              "      <td>0.0</td>\n",
              "      <td>0.0</td>\n",
              "      <td>0.01</td>\n",
              "      <td>0.00</td>\n",
              "      <td>0.00</td>\n",
              "    </tr>\n",
              "    <tr>\n",
              "      <th>2</th>\n",
              "      <td>0.01</td>\n",
              "      <td>0.00</td>\n",
              "      <td>0.00</td>\n",
              "      <td>0.0</td>\n",
              "      <td>0.00</td>\n",
              "      <td>0.0</td>\n",
              "      <td>0.00</td>\n",
              "      <td>0.0</td>\n",
              "      <td>0.0</td>\n",
              "      <td>0.0</td>\n",
              "      <td>...</td>\n",
              "      <td>0.0</td>\n",
              "      <td>0.01</td>\n",
              "      <td>0.01</td>\n",
              "      <td>0.00</td>\n",
              "      <td>0.0</td>\n",
              "      <td>0.0</td>\n",
              "      <td>0.0</td>\n",
              "      <td>0.00</td>\n",
              "      <td>0.01</td>\n",
              "      <td>0.01</td>\n",
              "    </tr>\n",
              "  </tbody>\n",
              "</table>\n",
              "<p>3 rows × 9658 columns</p>\n",
              "</div>\n",
              "    <div class=\"colab-df-buttons\">\n",
              "\n",
              "  <div class=\"colab-df-container\">\n",
              "    <button class=\"colab-df-convert\" onclick=\"convertToInteractive('df-44815218-4e00-4e8e-8159-5eaa54979d57')\"\n",
              "            title=\"Convert this dataframe to an interactive table.\"\n",
              "            style=\"display:none;\">\n",
              "\n",
              "  <svg xmlns=\"http://www.w3.org/2000/svg\" height=\"24px\" viewBox=\"0 -960 960 960\">\n",
              "    <path d=\"M120-120v-720h720v720H120Zm60-500h600v-160H180v160Zm220 220h160v-160H400v160Zm0 220h160v-160H400v160ZM180-400h160v-160H180v160Zm440 0h160v-160H620v160ZM180-180h160v-160H180v160Zm440 0h160v-160H620v160Z\"/>\n",
              "  </svg>\n",
              "    </button>\n",
              "\n",
              "  <style>\n",
              "    .colab-df-container {\n",
              "      display:flex;\n",
              "      gap: 12px;\n",
              "    }\n",
              "\n",
              "    .colab-df-convert {\n",
              "      background-color: #E8F0FE;\n",
              "      border: none;\n",
              "      border-radius: 50%;\n",
              "      cursor: pointer;\n",
              "      display: none;\n",
              "      fill: #1967D2;\n",
              "      height: 32px;\n",
              "      padding: 0 0 0 0;\n",
              "      width: 32px;\n",
              "    }\n",
              "\n",
              "    .colab-df-convert:hover {\n",
              "      background-color: #E2EBFA;\n",
              "      box-shadow: 0px 1px 2px rgba(60, 64, 67, 0.3), 0px 1px 3px 1px rgba(60, 64, 67, 0.15);\n",
              "      fill: #174EA6;\n",
              "    }\n",
              "\n",
              "    .colab-df-buttons div {\n",
              "      margin-bottom: 4px;\n",
              "    }\n",
              "\n",
              "    [theme=dark] .colab-df-convert {\n",
              "      background-color: #3B4455;\n",
              "      fill: #D2E3FC;\n",
              "    }\n",
              "\n",
              "    [theme=dark] .colab-df-convert:hover {\n",
              "      background-color: #434B5C;\n",
              "      box-shadow: 0px 1px 3px 1px rgba(0, 0, 0, 0.15);\n",
              "      filter: drop-shadow(0px 1px 2px rgba(0, 0, 0, 0.3));\n",
              "      fill: #FFFFFF;\n",
              "    }\n",
              "  </style>\n",
              "\n",
              "    <script>\n",
              "      const buttonEl =\n",
              "        document.querySelector('#df-44815218-4e00-4e8e-8159-5eaa54979d57 button.colab-df-convert');\n",
              "      buttonEl.style.display =\n",
              "        google.colab.kernel.accessAllowed ? 'block' : 'none';\n",
              "\n",
              "      async function convertToInteractive(key) {\n",
              "        const element = document.querySelector('#df-44815218-4e00-4e8e-8159-5eaa54979d57');\n",
              "        const dataTable =\n",
              "          await google.colab.kernel.invokeFunction('convertToInteractive',\n",
              "                                                    [key], {});\n",
              "        if (!dataTable) return;\n",
              "\n",
              "        const docLinkHtml = 'Like what you see? Visit the ' +\n",
              "          '<a target=\"_blank\" href=https://colab.research.google.com/notebooks/data_table.ipynb>data table notebook</a>'\n",
              "          + ' to learn more about interactive tables.';\n",
              "        element.innerHTML = '';\n",
              "        dataTable['output_type'] = 'display_data';\n",
              "        await google.colab.output.renderOutput(dataTable, element);\n",
              "        const docLink = document.createElement('div');\n",
              "        docLink.innerHTML = docLinkHtml;\n",
              "        element.appendChild(docLink);\n",
              "      }\n",
              "    </script>\n",
              "  </div>\n",
              "\n",
              "\n",
              "<div id=\"df-388cf0ef-72a6-4097-a2f4-6e4e4749bd98\">\n",
              "  <button class=\"colab-df-quickchart\" onclick=\"quickchart('df-388cf0ef-72a6-4097-a2f4-6e4e4749bd98')\"\n",
              "            title=\"Suggest charts\"\n",
              "            style=\"display:none;\">\n",
              "\n",
              "<svg xmlns=\"http://www.w3.org/2000/svg\" height=\"24px\"viewBox=\"0 0 24 24\"\n",
              "     width=\"24px\">\n",
              "    <g>\n",
              "        <path d=\"M19 3H5c-1.1 0-2 .9-2 2v14c0 1.1.9 2 2 2h14c1.1 0 2-.9 2-2V5c0-1.1-.9-2-2-2zM9 17H7v-7h2v7zm4 0h-2V7h2v10zm4 0h-2v-4h2v4z\"/>\n",
              "    </g>\n",
              "</svg>\n",
              "  </button>\n",
              "\n",
              "<style>\n",
              "  .colab-df-quickchart {\n",
              "      --bg-color: #E8F0FE;\n",
              "      --fill-color: #1967D2;\n",
              "      --hover-bg-color: #E2EBFA;\n",
              "      --hover-fill-color: #174EA6;\n",
              "      --disabled-fill-color: #AAA;\n",
              "      --disabled-bg-color: #DDD;\n",
              "  }\n",
              "\n",
              "  [theme=dark] .colab-df-quickchart {\n",
              "      --bg-color: #3B4455;\n",
              "      --fill-color: #D2E3FC;\n",
              "      --hover-bg-color: #434B5C;\n",
              "      --hover-fill-color: #FFFFFF;\n",
              "      --disabled-bg-color: #3B4455;\n",
              "      --disabled-fill-color: #666;\n",
              "  }\n",
              "\n",
              "  .colab-df-quickchart {\n",
              "    background-color: var(--bg-color);\n",
              "    border: none;\n",
              "    border-radius: 50%;\n",
              "    cursor: pointer;\n",
              "    display: none;\n",
              "    fill: var(--fill-color);\n",
              "    height: 32px;\n",
              "    padding: 0;\n",
              "    width: 32px;\n",
              "  }\n",
              "\n",
              "  .colab-df-quickchart:hover {\n",
              "    background-color: var(--hover-bg-color);\n",
              "    box-shadow: 0 1px 2px rgba(60, 64, 67, 0.3), 0 1px 3px 1px rgba(60, 64, 67, 0.15);\n",
              "    fill: var(--button-hover-fill-color);\n",
              "  }\n",
              "\n",
              "  .colab-df-quickchart-complete:disabled,\n",
              "  .colab-df-quickchart-complete:disabled:hover {\n",
              "    background-color: var(--disabled-bg-color);\n",
              "    fill: var(--disabled-fill-color);\n",
              "    box-shadow: none;\n",
              "  }\n",
              "\n",
              "  .colab-df-spinner {\n",
              "    border: 2px solid var(--fill-color);\n",
              "    border-color: transparent;\n",
              "    border-bottom-color: var(--fill-color);\n",
              "    animation:\n",
              "      spin 1s steps(1) infinite;\n",
              "  }\n",
              "\n",
              "  @keyframes spin {\n",
              "    0% {\n",
              "      border-color: transparent;\n",
              "      border-bottom-color: var(--fill-color);\n",
              "      border-left-color: var(--fill-color);\n",
              "    }\n",
              "    20% {\n",
              "      border-color: transparent;\n",
              "      border-left-color: var(--fill-color);\n",
              "      border-top-color: var(--fill-color);\n",
              "    }\n",
              "    30% {\n",
              "      border-color: transparent;\n",
              "      border-left-color: var(--fill-color);\n",
              "      border-top-color: var(--fill-color);\n",
              "      border-right-color: var(--fill-color);\n",
              "    }\n",
              "    40% {\n",
              "      border-color: transparent;\n",
              "      border-right-color: var(--fill-color);\n",
              "      border-top-color: var(--fill-color);\n",
              "    }\n",
              "    60% {\n",
              "      border-color: transparent;\n",
              "      border-right-color: var(--fill-color);\n",
              "    }\n",
              "    80% {\n",
              "      border-color: transparent;\n",
              "      border-right-color: var(--fill-color);\n",
              "      border-bottom-color: var(--fill-color);\n",
              "    }\n",
              "    90% {\n",
              "      border-color: transparent;\n",
              "      border-bottom-color: var(--fill-color);\n",
              "    }\n",
              "  }\n",
              "</style>\n",
              "\n",
              "  <script>\n",
              "    async function quickchart(key) {\n",
              "      const quickchartButtonEl =\n",
              "        document.querySelector('#' + key + ' button');\n",
              "      quickchartButtonEl.disabled = true;  // To prevent multiple clicks.\n",
              "      quickchartButtonEl.classList.add('colab-df-spinner');\n",
              "      try {\n",
              "        const charts = await google.colab.kernel.invokeFunction(\n",
              "            'suggestCharts', [key], {});\n",
              "      } catch (error) {\n",
              "        console.error('Error during call to suggestCharts:', error);\n",
              "      }\n",
              "      quickchartButtonEl.classList.remove('colab-df-spinner');\n",
              "      quickchartButtonEl.classList.add('colab-df-quickchart-complete');\n",
              "    }\n",
              "    (() => {\n",
              "      let quickchartButtonEl =\n",
              "        document.querySelector('#df-388cf0ef-72a6-4097-a2f4-6e4e4749bd98 button');\n",
              "      quickchartButtonEl.style.display =\n",
              "        google.colab.kernel.accessAllowed ? 'block' : 'none';\n",
              "    })();\n",
              "  </script>\n",
              "</div>\n",
              "\n",
              "    </div>\n",
              "  </div>\n"
            ],
            "application/vnd.google.colaboratory.intrinsic+json": {
              "type": "dataframe"
            }
          },
          "metadata": {},
          "execution_count": 30
        }
      ]
    },
    {
      "cell_type": "code",
      "source": [
        "# what are unique values in model_matrix_all\n",
        "\n",
        "unique_values1 = np.unique(model_matrix_all)\n",
        "print(unique_values1.round(2))"
      ],
      "metadata": {
        "colab": {
          "base_uri": "https://localhost:8080/"
        },
        "id": "LmreB2z9PDNR",
        "outputId": "e30803ab-4875-4b78-d239-ed5018f035ca"
      },
      "execution_count": null,
      "outputs": [
        {
          "output_type": "stream",
          "name": "stdout",
          "text": [
            "[0.   0.   0.   0.   0.   0.   0.   0.   0.   0.   0.   0.   0.   0.01\n",
            " 0.01 0.01 0.01 0.01 0.01 0.01 0.01 0.01 0.01 0.01 0.01 0.01 0.01 0.01\n",
            " 0.01 0.01 0.01 0.01 0.01 0.01 0.01 0.01 0.01 0.01 0.01 0.01 0.01 0.01\n",
            " 0.01 0.01 0.01 0.02 0.02 0.02 0.02 0.02 0.02 0.02 0.02 0.02 0.02 0.02\n",
            " 0.02 0.02 0.02 0.02 0.02 0.02 0.02 0.02 0.02 0.02 0.02 0.02 0.02 0.02\n",
            " 0.02 0.02 0.02 0.02 0.02 0.02 0.02 0.02 0.02 0.03 0.03 0.03 0.03 0.03\n",
            " 0.03 0.03 0.03 0.03 0.03 0.03 0.03 0.03 0.03 0.03 0.03 0.03 0.03 0.03\n",
            " 0.03 0.03 0.03 0.03 0.03 0.03 0.03 0.03 0.03 0.03 0.03 0.03 0.03 0.04\n",
            " 0.04 0.04 0.04 0.04 0.04 0.04 0.04 0.04 0.04 0.04 0.04 0.04 0.04 0.04\n",
            " 0.04 0.04 0.04 0.04 0.04 0.04 0.04 0.04 0.04 0.04 0.04 0.04 0.04 0.04\n",
            " 0.05 0.05 0.05 0.05 0.05 0.05 0.05 0.05 0.05 0.05 0.05 0.05 0.05 0.05\n",
            " 0.05 0.05 0.05 0.05 0.05 0.05 0.05 0.05 0.05 0.05 0.06 0.06 0.06 0.06\n",
            " 0.06 0.06 0.06 0.06 0.06 0.06 0.06 0.06 0.06 0.06 0.06 0.06 0.06 0.06\n",
            " 0.06 0.06 0.07 0.07 0.07 0.07 0.07 0.07 0.07 0.07 0.07 0.07 0.07 0.07\n",
            " 0.07 0.07 0.07 0.07 0.08 0.08 0.08 0.08 0.08 0.08 0.08 0.08 0.08 0.08\n",
            " 0.08 0.08 0.09 0.09 0.09 0.09 0.09 0.09 0.1  0.1  0.1  0.1  0.1  0.1\n",
            " 0.1  0.1  0.1  0.1  0.1  0.11 0.11 0.11 0.11 0.11 0.12 0.12 0.12 0.12\n",
            " 0.12 0.13 0.13 0.14 0.14 0.15 0.15 0.16 0.16 0.17 0.17 0.18 0.18 0.19\n",
            " 0.19 0.19 0.2  0.21 0.22 0.23 0.24 0.26 0.29 0.32]\n"
          ]
        }
      ]
    },
    {
      "cell_type": "markdown",
      "source": [
        "## Step 3. Document Similarity"
      ],
      "metadata": {
        "id": "4zEoyLRgYEbQ"
      }
    },
    {
      "cell_type": "markdown",
      "source": [
        "Measure document similarity across 3 documents"
      ],
      "metadata": {
        "id": "9M-a8PvtrQ5A"
      }
    },
    {
      "cell_type": "code",
      "source": [
        "model_matrix_all.shape"
      ],
      "metadata": {
        "colab": {
          "base_uri": "https://localhost:8080/"
        },
        "id": "oskCcoOcY9tZ",
        "outputId": "31f7b1b0-d0b9-4847-d4e1-6a40113d81fc"
      },
      "execution_count": null,
      "outputs": [
        {
          "output_type": "execute_result",
          "data": {
            "text/plain": [
              "(3, 9658)"
            ]
          },
          "metadata": {},
          "execution_count": 32
        }
      ]
    },
    {
      "cell_type": "code",
      "source": [
        "from scipy.spatial import distance"
      ],
      "metadata": {
        "id": "jsx72DbrYE0j"
      },
      "execution_count": null,
      "outputs": []
    },
    {
      "cell_type": "code",
      "source": [
        "# Cosine similarity\n",
        "\n",
        "from sklearn.metrics.pairwise import cosine_similarity\n",
        "\n",
        "# Calc the cosine similarity between all documents\n",
        "cosine_similarities = cosine_similarity(model_matrix_all)\n",
        "cosine_similarities = pd.DataFrame(cosine_similarities)\n",
        "\n",
        "# add column labels\n",
        "cosine_similarities.columns = ['mystery', 'sci-fi', 'humor']\n",
        "# add row labels\n",
        "cosine_similarities.index = ['mystery', 'sci-fi', 'humor']\n",
        "\n",
        "print(\"Cosine Similarity Matrix: \\n\")\n",
        "print(cosine_similarities.round(5))"
      ],
      "metadata": {
        "colab": {
          "base_uri": "https://localhost:8080/"
        },
        "id": "df7pPbJbSI7P",
        "outputId": "699d99c8-3024-4978-b79c-7214a8a8d716"
      },
      "execution_count": null,
      "outputs": [
        {
          "output_type": "stream",
          "name": "stdout",
          "text": [
            "Cosine Similarity Matrix: \n",
            "\n",
            "         mystery   sci-fi    humor\n",
            "mystery  1.00000  0.55648  0.64053\n",
            "sci-fi   0.55648  1.00000  0.49449\n",
            "humor    0.64053  0.49449  1.00000\n"
          ]
        }
      ]
    },
    {
      "cell_type": "code",
      "source": [
        "# Jaccard similarity\n",
        "\n",
        "binary_matrix = np.where(model_matrix_all > 0, 1, 0)\n",
        "n = 3 # 3 texts, 3 rows\n",
        "jaccard_similarities = np.zeros((n, n))\n",
        "\n",
        "for i in range(n):\n",
        "    for j in range(n):\n",
        "      jaccard_dist = distance.jaccard(binary_matrix[i], binary_matrix[j]) # get Jaccard distance\n",
        "      jaccard_similarities[i][j] = 1 - jaccard_dist  # must subtract Jaccard distance from 1\n",
        "\n",
        "jaccard_similarities = pd.DataFrame(jaccard_similarities)\n",
        "\n",
        "# add column labels\n",
        "jaccard_similarities.columns = ['mystery', 'sci-fi', 'humor']\n",
        "# add row labels\n",
        "jaccard_similarities.index = ['mystery', 'sci-fi', 'humor']\n",
        "\n",
        "# Print the similarity matrix\n",
        "print(\"Jaccard Similarity Matrix: \\n\")\n",
        "print(jaccard_similarities.round(5))"
      ],
      "metadata": {
        "colab": {
          "base_uri": "https://localhost:8080/"
        },
        "id": "PMccwFiQegVx",
        "outputId": "cacb332b-6f4f-48c7-a4fc-2ad7c269bb6f"
      },
      "execution_count": null,
      "outputs": [
        {
          "output_type": "stream",
          "name": "stdout",
          "text": [
            "Jaccard Similarity Matrix: \n",
            "\n",
            "         mystery   sci-fi    humor\n",
            "mystery  1.00000  0.19897  0.23411\n",
            "sci-fi   0.19897  1.00000  0.18872\n",
            "humor    0.23411  0.18872  1.00000\n"
          ]
        }
      ]
    },
    {
      "cell_type": "code",
      "source": [
        "# Euclidean similarity\n",
        "\n",
        "binary_matrix = np.where(model_matrix_all > 0, 1, 0)\n",
        "n = 3 # 3 texts, 3 rows\n",
        "euclidean_similarities = np.zeros((n, n))\n",
        "\n",
        "for i in range(n):\n",
        "  for j in range(n):\n",
        "    euclidean_similarities[i][j] = 1 / (1 + distance.euclidean(model_matrix_all[i], model_matrix_all[j]))\n",
        "    euclidean_similarities = pd.DataFrame(euclidean_similarities)\n",
        "\n",
        "# column labels\n",
        "euclidean_similarities.columns = ['mystery', 'sci-fi', 'humor']\n",
        "# row labels\n",
        "euclidean_similarities.index = ['mystery', 'sci-fi', 'humor']\n",
        "\n",
        "print(\"Euclidean Similarity Matrix: \\n\")\n",
        "print(euclidean_similarities.round(5))"
      ],
      "metadata": {
        "colab": {
          "base_uri": "https://localhost:8080/"
        },
        "id": "4Bbv_CZ1XgLw",
        "outputId": "e39111bd-e419-4e27-ff82-bfa53dc9633f"
      },
      "execution_count": null,
      "outputs": [
        {
          "output_type": "stream",
          "name": "stdout",
          "text": [
            "Euclidean Similarity Matrix: \n",
            "\n",
            "         mystery   sci-fi    humor\n",
            "mystery  1.00000  0.51498  0.54115\n",
            "sci-fi   0.51498  1.00000  0.49863\n",
            "humor    0.54115  0.49863  1.00000\n"
          ]
        }
      ]
    },
    {
      "cell_type": "markdown",
      "source": [
        "Perform hierarchical  cluster analysis (cosine similarity)"
      ],
      "metadata": {
        "id": "k6UtfDUpjIch"
      }
    },
    {
      "cell_type": "code",
      "source": [
        "from scipy.cluster.hierarchy import ward, dendrogram\n",
        "\n",
        "def ward_hierarchical_clustering(feature_matrix):\n",
        "    # cosine_distance = 1 - cosine_similarity(feature_matrix)\n",
        "    linkage_matrix = ward(cosine_similarities)\n",
        "    return linkage_matrix\n",
        "\n",
        "linkage_matrix = ward_hierarchical_clustering(model_matrix_all)\n",
        "dendrogram(linkage_matrix, labels=['mystery', 'sci-fi', 'humor']);"
      ],
      "metadata": {
        "colab": {
          "base_uri": "https://localhost:8080/",
          "height": 434
        },
        "id": "aAMdr56SXgNj",
        "outputId": "67345abe-e6ac-40ac-fbbf-a916e7f3560a"
      },
      "execution_count": null,
      "outputs": [
        {
          "output_type": "display_data",
          "data": {
            "text/plain": [
              "<Figure size 640x480 with 1 Axes>"
            ],
            "image/png": "[encoded data removed]"
          },
          "metadata": {}
        }
      ]
    },
    {
      "cell_type": "markdown",
      "source": [
        "# Step 4: Discussion"
      ],
      "metadata": {
        "id": "20ij06v1nTSY"
      }
    },
    {
      "cell_type": "markdown",
      "source": [
        "**Question 1: Any differences between cosine, euclidean and jaccard metrics. Do they all show the same results?**\n",
        "\n",
        "Yes, there are observed differences between the three methods across the three texts (humor, mystery, sci-fi). The Jaccard similarity scores seem the most different, as Cosine and Euclidean are not identical, but the most similar.\n",
        "\n",
        "\n",
        "**Question 2: Are the results in the dendrogram as, expected or different?**\n",
        "Personally, yes, I initially figured sci-fi and mystery would be more similar to each other (provided the similar elements in the genres). Given the shorter vertical lines of mystery and humor, this tells that these two genres are actually the most similar. The visualization tells us that there are two clusters, where mystery + humor share one cluster, while sci-fi is the other.\n"
      ],
      "metadata": {
        "id": "tNh2iuiInYxP"
      }
    }
  ]
}