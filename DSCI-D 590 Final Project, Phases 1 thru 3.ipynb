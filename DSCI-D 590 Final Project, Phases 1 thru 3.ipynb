{
 "cells": [
  {
   "cell_type": "markdown",
   "id": "99272ba5",
   "metadata": {},
   "source": [
    "# Phase 1"
   ]
  },
  {
   "cell_type": "markdown",
   "id": "d4e7189a",
   "metadata": {},
   "source": [
    "# import packages"
   ]
  },
  {
   "cell_type": "code",
   "execution_count": 18,
   "id": "6f54be7c",
   "metadata": {},
   "outputs": [],
   "source": [
    "import matplotlib.pyplot as plt\n",
    "import pandas as pd\n",
    "import numpy as np\n",
    "import math\n",
    "from graphics import *"
   ]
  },
  {
   "cell_type": "markdown",
   "id": "ee827bd8",
   "metadata": {},
   "source": [
    "# import base data set"
   ]
  },
  {
   "cell_type": "code",
   "execution_count": 19,
   "id": "cb680a6c",
   "metadata": {},
   "outputs": [
    {
     "data": {
      "text/html": [
       "<div>\n",
       "<style scoped>\n",
       "    .dataframe tbody tr th:only-of-type {\n",
       "        vertical-align: middle;\n",
       "    }\n",
       "\n",
       "    .dataframe tbody tr th {\n",
       "        vertical-align: top;\n",
       "    }\n",
       "\n",
       "    .dataframe thead th {\n",
       "        text-align: right;\n",
       "    }\n",
       "</style>\n",
       "<table border=\"1\" class=\"dataframe\">\n",
       "  <thead>\n",
       "    <tr style=\"text-align: right;\">\n",
       "      <th></th>\n",
       "      <th>Scn</th>\n",
       "      <th>A2</th>\n",
       "      <th>A3</th>\n",
       "      <th>A4</th>\n",
       "      <th>A5</th>\n",
       "      <th>A6</th>\n",
       "      <th>A7</th>\n",
       "      <th>A8</th>\n",
       "      <th>A9</th>\n",
       "      <th>A10</th>\n",
       "      <th>Class</th>\n",
       "    </tr>\n",
       "  </thead>\n",
       "  <tbody>\n",
       "    <tr>\n",
       "      <th>0</th>\n",
       "      <td>1000025</td>\n",
       "      <td>5</td>\n",
       "      <td>1</td>\n",
       "      <td>1</td>\n",
       "      <td>1</td>\n",
       "      <td>2</td>\n",
       "      <td>1.0</td>\n",
       "      <td>3</td>\n",
       "      <td>1</td>\n",
       "      <td>1</td>\n",
       "      <td>2</td>\n",
       "    </tr>\n",
       "    <tr>\n",
       "      <th>1</th>\n",
       "      <td>1002945</td>\n",
       "      <td>5</td>\n",
       "      <td>4</td>\n",
       "      <td>4</td>\n",
       "      <td>5</td>\n",
       "      <td>7</td>\n",
       "      <td>10.0</td>\n",
       "      <td>3</td>\n",
       "      <td>2</td>\n",
       "      <td>1</td>\n",
       "      <td>2</td>\n",
       "    </tr>\n",
       "    <tr>\n",
       "      <th>2</th>\n",
       "      <td>1015425</td>\n",
       "      <td>3</td>\n",
       "      <td>1</td>\n",
       "      <td>1</td>\n",
       "      <td>1</td>\n",
       "      <td>2</td>\n",
       "      <td>2.0</td>\n",
       "      <td>3</td>\n",
       "      <td>1</td>\n",
       "      <td>1</td>\n",
       "      <td>2</td>\n",
       "    </tr>\n",
       "    <tr>\n",
       "      <th>3</th>\n",
       "      <td>1016277</td>\n",
       "      <td>6</td>\n",
       "      <td>8</td>\n",
       "      <td>8</td>\n",
       "      <td>1</td>\n",
       "      <td>3</td>\n",
       "      <td>4.0</td>\n",
       "      <td>3</td>\n",
       "      <td>7</td>\n",
       "      <td>1</td>\n",
       "      <td>2</td>\n",
       "    </tr>\n",
       "    <tr>\n",
       "      <th>4</th>\n",
       "      <td>1017023</td>\n",
       "      <td>4</td>\n",
       "      <td>1</td>\n",
       "      <td>1</td>\n",
       "      <td>3</td>\n",
       "      <td>2</td>\n",
       "      <td>1.0</td>\n",
       "      <td>3</td>\n",
       "      <td>1</td>\n",
       "      <td>1</td>\n",
       "      <td>2</td>\n",
       "    </tr>\n",
       "  </tbody>\n",
       "</table>\n",
       "</div>"
      ],
      "text/plain": [
       "       Scn  A2  A3  A4  A5  A6    A7  A8  A9  A10  Class\n",
       "0  1000025   5   1   1   1   2   1.0   3   1    1      2\n",
       "1  1002945   5   4   4   5   7  10.0   3   2    1      2\n",
       "2  1015425   3   1   1   1   2   2.0   3   1    1      2\n",
       "3  1016277   6   8   8   1   3   4.0   3   7    1      2\n",
       "4  1017023   4   1   1   3   2   1.0   3   1    1      2"
      ]
     },
     "execution_count": 19,
     "metadata": {},
     "output_type": "execute_result"
    }
   ],
   "source": [
    "col = [\"Scn\", \"A2\", \"A3\", \"A4\", \"A5\", \"A6\", \"A7\", \"A8\", \"A9\", \"A10\", \"Class\"] \n",
    "df = pd.read_csv('Downloads/breast-cancer-wisconsin.data', na_values = '?', names = col)\n",
    "df.head()"
   ]
  },
  {
   "cell_type": "markdown",
   "id": "63c0db75",
   "metadata": {},
   "source": [
    "# Calculate central tendency measures"
   ]
  },
  {
   "cell_type": "code",
   "execution_count": 20,
   "id": "4054cd7a",
   "metadata": {},
   "outputs": [],
   "source": [
    "df['A7'] = df['A7'].fillna(df['A7'].mean()) # fill ? NaNs with column average (3.5)\n",
    "\n",
    "def main():\n",
    "    for column in df.iloc[:, 1:10]: #use only data cols (suppress Scn and Class cols)\n",
    "        print('Attribute',column, '-------')\n",
    "        print('Mean: \\t\\t', round(np.mean(df[column]),1)) # find mean per attribute\n",
    "        print('Median: \\t', round(np.median(df[column]),1)) # find median per attribute \n",
    "        print('Variance: \\t', round(np.var(df[column]),1)) #find variance per attribute\n",
    "        print('STD: \\t\\t', round(np.sqrt(np.var(df[column])),1),'\\n') # find std per attribute"
   ]
  },
  {
   "cell_type": "code",
   "execution_count": 21,
   "id": "7dfddefd",
   "metadata": {},
   "outputs": [
    {
     "name": "stdout",
     "output_type": "stream",
     "text": [
      "Attribute A2 -------\n",
      "Mean: \t\t 4.4\n",
      "Median: \t 4.0\n",
      "Variance: \t 7.9\n",
      "STD: \t\t 2.8 \n",
      "\n",
      "Attribute A3 -------\n",
      "Mean: \t\t 3.1\n",
      "Median: \t 1.0\n",
      "Variance: \t 9.3\n",
      "STD: \t\t 3.0 \n",
      "\n",
      "Attribute A4 -------\n",
      "Mean: \t\t 3.2\n",
      "Median: \t 1.0\n",
      "Variance: \t 8.8\n",
      "STD: \t\t 3.0 \n",
      "\n",
      "Attribute A5 -------\n",
      "Mean: \t\t 2.8\n",
      "Median: \t 1.0\n",
      "Variance: \t 8.1\n",
      "STD: \t\t 2.9 \n",
      "\n",
      "Attribute A6 -------\n",
      "Mean: \t\t 3.2\n",
      "Median: \t 2.0\n",
      "Variance: \t 4.9\n",
      "STD: \t\t 2.2 \n",
      "\n",
      "Attribute A7 -------\n",
      "Mean: \t\t 3.5\n",
      "Median: \t 1.0\n",
      "Variance: \t 13.0\n",
      "STD: \t\t 3.6 \n",
      "\n",
      "Attribute A8 -------\n",
      "Mean: \t\t 3.4\n",
      "Median: \t 3.0\n",
      "Variance: \t 5.9\n",
      "STD: \t\t 2.4 \n",
      "\n",
      "Attribute A9 -------\n",
      "Mean: \t\t 2.9\n",
      "Median: \t 1.0\n",
      "Variance: \t 9.3\n",
      "STD: \t\t 3.1 \n",
      "\n",
      "Attribute A10 -------\n",
      "Mean: \t\t 1.6\n",
      "Median: \t 1.0\n",
      "Variance: \t 2.9\n",
      "STD: \t\t 1.7 \n",
      "\n"
     ]
    }
   ],
   "source": [
    "main()"
   ]
  },
  {
   "cell_type": "markdown",
   "id": "a8284d7f",
   "metadata": {},
   "source": [
    "# Plot data"
   ]
  },
  {
   "cell_type": "code",
   "execution_count": 22,
   "id": "8f5a93d1",
   "metadata": {
    "scrolled": true
   },
   "outputs": [
    {
     "data": {
      "text/plain": [
       "(array([579.,  35.,  33.,  12.,   6.,   3.,   9.,   8.,   0.,  14.]),\n",
       " array([ 1. ,  1.9,  2.8,  3.7,  4.6,  5.5,  6.4,  7.3,  8.2,  9.1, 10. ]),\n",
       " <BarContainer object of 10 artists>)"
      ]
     },
     "execution_count": 22,
     "metadata": {},
     "output_type": "execute_result"
    },
    {
     "data": {
      "image/png": "[encoded data removed]",
      "text/plain": [
       "<Figure size 432x288 with 1 Axes>"
      ]
     },
     "metadata": {
      "needs_background": "light"
     },
     "output_type": "display_data"
    },
    {
     "data": {
      "image/png": "[encoded data removed]",
      "text/plain": [
       "<Figure size 432x288 with 1 Axes>"
      ]
     },
     "metadata": {
      "needs_background": "light"
     },
     "output_type": "display_data"
    },
    {
     "data": {
      "image/png": "[encoded data removed]",
      "text/plain": [
       "<Figure size 432x288 with 1 Axes>"
      ]
     },
     "metadata": {
      "needs_background": "light"
     },
     "output_type": "display_data"
    },
    {
     "data": {
      "image/png": "[encoded data removed]",
      "text/plain": [
       "<Figure size 432x288 with 1 Axes>"
      ]
     },
     "metadata": {
      "needs_background": "light"
     },
     "output_type": "display_data"
    },
    {
     "data": {
      "image/png": "[encoded data removed]",
      "text/plain": [
       "<Figure size 432x288 with 1 Axes>"
      ]
     },
     "metadata": {
      "needs_background": "light"
     },
     "output_type": "display_data"
    },
    {
     "data": {
      "image/png": "[encoded data removed]",
      "text/plain": [
       "<Figure size 432x288 with 1 Axes>"
      ]
     },
     "metadata": {
      "needs_background": "light"
     },
     "output_type": "display_data"
    },
    {
     "data": {
      "image/png": "[encoded data removed]",
      "text/plain": [
       "<Figure size 432x288 with 1 Axes>"
      ]
     },
     "metadata": {
      "needs_background": "light"
     },
     "output_type": "display_data"
    },
    {
     "data": {
      "image/png": "[encoded data removed]",
      "text/plain": [
       "<Figure size 432x288 with 1 Axes>"
      ]
     },
     "metadata": {
      "needs_background": "light"
     },
     "output_type": "display_data"
    },
    {
     "data": {
      "image/png": "[encoded data removed]",
      "text/plain": [
       "<Figure size 432x288 with 1 Axes>"
      ]
     },
     "metadata": {
      "needs_background": "light"
     },
     "output_type": "display_data"
    }
   ],
   "source": [
    "# create figures first \n",
    "fig2 = plt.figure() \n",
    "fig3 = plt.figure()\n",
    "fig4 = plt.figure()\n",
    "fig5 = plt.figure()\n",
    "fig6 = plt.figure()\n",
    "fig7 = plt.figure()\n",
    "fig8 = plt.figure()\n",
    "fig9 = plt.figure()\n",
    "fig10 = plt.figure()\n",
    "\n",
    "#create subplot\n",
    "sp2 = fig2.add_subplot(1, 1, 1) \n",
    "sp3 = fig3.add_subplot(1, 1, 1)\n",
    "sp4 = fig4.add_subplot(1, 1, 1)\n",
    "sp5 = fig5.add_subplot(1, 1, 1)\n",
    "sp6 = fig6.add_subplot(1, 1, 1)\n",
    "sp7 = fig7.add_subplot(1, 1, 1)\n",
    "sp8 = fig8.add_subplot(1, 1, 1)\n",
    "sp9 = fig9.add_subplot(1, 1, 1)\n",
    "sp10 = fig10.add_subplot(1, 1, 1)\n",
    "    \n",
    "# add chart formatting \n",
    "sp2.set_title(\"Histogram of A2\") # add title\n",
    "sp2.set_xlabel(\"Value of the attribute\") # add x label \n",
    "sp2.set_ylabel(\"Number of data points\") # add y label \n",
    "\n",
    "sp3.set_title(\"Histogram of A3\") \n",
    "sp3.set_xlabel(\"Value of the attribute\") \n",
    "sp3.set_ylabel(\"Number of data points\") \n",
    "\n",
    "sp4.set_title(\"Histogram of A4\") \n",
    "sp4.set_xlabel(\"Value of the attribute\") \n",
    "sp4.set_ylabel(\"Number of data points\") \n",
    "\n",
    "sp5.set_title(\"Histogram of A5\") \n",
    "sp5.set_xlabel(\"Value of the attribute\") \n",
    "sp5.set_ylabel(\"Number of data points\") \n",
    "\n",
    "sp6.set_title(\"Histogram of A6\") \n",
    "sp6.set_xlabel(\"Value of the attribute\")\n",
    "sp6.set_ylabel(\"Number of data points\") \n",
    "\n",
    "sp7.set_title(\"Histogram of A7\")\n",
    "sp7.set_xlabel(\"Value of the attribute\") \n",
    "sp7.set_ylabel(\"Number of data points\") \n",
    "\n",
    "sp8.set_title(\"Histogram of A8\") \n",
    "sp8.set_xlabel(\"Value of the attribute\") \n",
    "sp8.set_ylabel(\"Number of data points\") \n",
    "\n",
    "sp9.set_title(\"Histogram of A9\") \n",
    "sp9.set_xlabel(\"Value of the attribute\") \n",
    "sp9.set_ylabel(\"Number of data points\")\n",
    "\n",
    "sp10.set_title(\"Histogram of A10\")\n",
    "sp10.set_xlabel(\"Value of the attribute\") \n",
    "sp10.set_ylabel(\"Number of data points\")\n",
    "\n",
    "\n",
    "# plot histograms\n",
    "sp2.hist(df['A2'], bins = 10, color = 'blue', edgecolor = 'black', alpha = 0.5)\n",
    "sp3.hist(df['A3'], bins = 10, color = 'blue', edgecolor = 'black', alpha = 0.5)\n",
    "sp4.hist(df['A4'], bins = 10, color = 'blue', edgecolor = 'black', alpha = 0.5)\n",
    "sp5.hist(df['A5'], bins = 10, color = 'blue', edgecolor = 'black', alpha = 0.5)\n",
    "sp6.hist(df['A6'], bins = 10, color = 'blue', edgecolor = 'black', alpha = 0.5)\n",
    "sp7.hist(df['A7'], bins = 10, color = 'blue', edgecolor = 'black', alpha = 0.5)\n",
    "sp8.hist(df['A8'], bins = 10, color = 'blue', edgecolor = 'black', alpha = 0.5)\n",
    "sp9.hist(df['A9'], bins = 10, color = 'blue', edgecolor = 'black', alpha = 0.5)\n",
    "sp10.hist(df['A10'], bins = 10, color = 'blue', edgecolor = 'black', alpha = 0.5)"
   ]
  },
  {
   "cell_type": "markdown",
   "id": "04805a1d",
   "metadata": {},
   "source": [
    "# Phase 2"
   ]
  },
  {
   "cell_type": "markdown",
   "id": "9f3a6b06",
   "metadata": {},
   "source": [
    "# Implement k-means algorithm"
   ]
  },
  {
   "cell_type": "code",
   "execution_count": 30,
   "id": "82a4f866",
   "metadata": {
    "scrolled": true
   },
   "outputs": [],
   "source": [
    "def main2():\n",
    "    # Initial step: ID initial centroids at random\n",
    "    row_count = df.shape[0]\n",
    "\n",
    "    rand1 = np.random.randint(len(df))\n",
    "    rand2 = np.random.randint(len(df))\n",
    "  \n",
    "    u2 = df.iloc[rand1][1:10]\n",
    "    u4 = df.iloc[rand2][1:10]\n",
    "\n",
    "    print(\"Randomly selected row\", rand1, \"for centroid mu_2.\") # initial centroid for mu_2\n",
    "    print(\"Initial centroid mu_2:\")\n",
    "    print(u2, \"\\n\")\n",
    "    print(\"Randomly selected row\", rand2, \"for centroid mu_4.\") # initial centroid for mu_4\n",
    "    print(\"Initial centroid mu_4:\")\n",
    "    print(u4, \"\\n\")\n",
    "    \n",
    "    kmean_center = 0\n",
    "    kmean_completed = False\n",
    "\n",
    "    # Assign step: assign predicted classes to each data point \n",
    "    while(not(kmean_completed)):\n",
    "        predicted_class = []\n",
    "        for i in range(0, row_count):\n",
    "            dp = df.iloc[i][1:10]\n",
    "            \n",
    "            # step to calculate euclidian dist of each centroid\n",
    "            u2_dist = math.dist(dp, u2)\n",
    "            u4_dist = math.dist(dp, u4)\n",
    "            \n",
    "            if u2_dist <= u4_dist:\n",
    "                predicted_class.append(2)\n",
    "            else:\n",
    "                predicted_class.append(4)\n",
    "            \n",
    "        df['Predicted Class'] = predicted_class # establish new 'predicted_class' col\n",
    "    \n",
    "        cluster_2 = df[df['Predicted Class'] == 2]\n",
    "        cluster_4 = df[df['Predicted Class'] == 4]\n",
    "        \n",
    "        # Mean step: calculate averages per data point in each predicted class\n",
    "        new_u2 = round(cluster_2[col[1:10]].mean(),5)\n",
    "        new_u4 = round(cluster_4[col[1:10]].mean(),5)\n",
    "    \n",
    "        # Iteration step: iterate until below criteria is met:\n",
    "        kmean_center += 1\n",
    "        kmean_completed = kmean_center >= 50 or new_u2.equals(u2) and new_u4.equals(u4)\n",
    "    \n",
    "        # update centroids if exit criteria is not met\n",
    "        u2 = new_u2\n",
    "        u4 = new_u4\n",
    "\n",
    "    print('Program ended after', kmean_center, 'iterations.') \n",
    "    print('\\nFinal centroid mu_2:') # show final centroid for mu_2\n",
    "    print(u2)\n",
    "    print('\\nFinal centroid mu_4:') # show final centroid for mu_4\n",
    "    print(u4)\n",
    "    \n",
    "    cluster_assignment = df[['Scn', 'Class', 'Predicted Class']]\n",
    "    # final_cluster_assignment = df[['Scn', 'Class', 'Predicted Class']][0:21] # only top 20 data points\n",
    "    # print('\\nFinal cluster assignment:\\n{cluster_assignment}')\n",
    "    cluster_assignment.to_csv('C:/Users/zach_hofstad/k_means_final_cluster_assignment_final6') #save final cluster assignments to file"
   ]
  },
  {
   "cell_type": "code",
   "execution_count": 31,
   "id": "91126252",
   "metadata": {},
   "outputs": [
    {
     "name": "stdout",
     "output_type": "stream",
     "text": [
      "Randomly selected row 418 for centroid mu_2.\n",
      "Initial centroid mu_2:\n",
      "A2     5.0\n",
      "A3     2.0\n",
      "A4     2.0\n",
      "A5     2.0\n",
      "A6     2.0\n",
      "A7     2.0\n",
      "A8     3.0\n",
      "A9     2.0\n",
      "A10    2.0\n",
      "Name: 418, dtype: float64 \n",
      "\n",
      "Randomly selected row 322 for centroid mu_4.\n",
      "Initial centroid mu_4:\n",
      "A2     3.0\n",
      "A3     1.0\n",
      "A4     1.0\n",
      "A5     1.0\n",
      "A6     2.0\n",
      "A7     1.0\n",
      "A8     3.0\n",
      "A9     1.0\n",
      "A10    1.0\n",
      "Name: 322, dtype: float64 \n",
      "\n",
      "Program ended after 6 iterations.\n",
      "\n",
      "Final centroid mu_2:\n",
      "A2     7.15319\n",
      "A3     6.76596\n",
      "A4     6.70638\n",
      "A5     5.70638\n",
      "A6     5.44255\n",
      "A7     7.85182\n",
      "A8     6.09362\n",
      "A9     6.06383\n",
      "A10    2.53617\n",
      "dtype: float64\n",
      "\n",
      "Final centroid mu_4:\n",
      "A2     3.03233\n",
      "A3     1.29526\n",
      "A4     1.43534\n",
      "A5     1.33836\n",
      "A6     2.08836\n",
      "A7     1.36322\n",
      "A8     2.09267\n",
      "A9     1.24784\n",
      "A10    1.10991\n",
      "dtype: float64\n"
     ]
    }
   ],
   "source": [
    "main2()"
   ]
  },
  {
   "cell_type": "markdown",
   "id": "b17d81da",
   "metadata": {},
   "source": [
    "# Phase 3"
   ]
  },
  {
   "cell_type": "markdown",
   "id": "5d185722",
   "metadata": {},
   "source": [
    "# Analyze clustering"
   ]
  },
  {
   "cell_type": "code",
   "execution_count": 33,
   "id": "3ad64e17",
   "metadata": {},
   "outputs": [
    {
     "name": "stdout",
     "output_type": "stream",
     "text": [
      "\n",
      "Data points in Predicted Class 2: 464\n",
      "Data points in Predicted Class 4: 235\n",
      "\n",
      "Error data points, Predicted Class 2:\n",
      "         Scn  Class  Predicted Class\n",
      "12   1041801      4                2\n",
      "15   1047630      4                2\n",
      "50   1108370      4                2\n",
      "51   1108449      4                2\n",
      "57   1113038      4                2\n",
      "59   1113906      4                2\n",
      "63   1116132      4                2\n",
      "65   1116998      4                2\n",
      "101  1167439      4                2\n",
      "103  1168359      4                2\n",
      "105  1169049      4                2\n",
      "222  1226012      4                2\n",
      "273   428903      4                2\n",
      "348   832226      4                2\n",
      "356   859164      4                2\n",
      "455  1246562      4                2\n",
      "489  1084139      4                2\n",
      "\n",
      "Error data points, Predicted Class 4:\n",
      "         Scn  Class  Predicted Class\n",
      "1    1002945      2                4\n",
      "3    1016277      2                4\n",
      "40   1096800      2                4\n",
      "196  1213375      2                4\n",
      "252  1017023      2                4\n",
      "259   242970      2                4\n",
      "296   616240      2                4\n",
      "315   704168      2                4\n",
      "319   721482      2                4\n",
      "352   846832      2                4\n",
      "434  1293439      2                4\n",
      "\n",
      "Number of all data points:\t 699\n",
      "\n",
      "Number of error points:\t\t 28\n",
      "\n",
      "Error rate for class 2:\t\t 3.7 %\n",
      "Error rate for class 2:\t\t 4.7 %\n",
      "Total error rate:\t\t 4.0 %\n"
     ]
    }
   ],
   "source": [
    "def main3():\n",
    "    final_df = pd.read_csv('k_means_final_cluster_assignment_final6') #import final cluster assignments from Phase 2\n",
    "    final_df = final_df.drop(['Unnamed: 0'], axis = 1)\n",
    "    final_df = pd.DataFrame(final_df)\n",
    "    final_df['Predicted Class'] = final_df['Predicted Class'].replace([2,4], [4,2]) # if clusters are swapped, enable code here to swap predicted classes\n",
    "    error24_df = final_df[(final_df['Class'] == 4) & (final_df['Predicted Class'] == 2)]\n",
    "    error42_df = final_df[(final_df['Class'] == 2) & (final_df['Predicted Class'] == 4)]\n",
    "    errorall_df = final_df[(final_df['Class']) != (final_df['Predicted Class'])]\n",
    "\n",
    "    row_count = final_df.shape[0]\n",
    "    error_24 = len(error24_df) # #data points predicted as class 2, while the correct class is 4\n",
    "    error_42 = len(error42_df) # #data points predicted as class 4, while the correct class is 2\n",
    "    error_all = len(errorall_df) # #data points with predicted class not equal to correct class\n",
    "    pclass_2 = len(final_df[final_df['Predicted Class'] == 2]) # #data points with predicted class equal to 2\n",
    "    pclass_4 = len(final_df[final_df['Predicted Class'] == 4]) # #data points with predicted class equal to 4\n",
    "    class_all = row_count # #data points\n",
    "    error_B = (error_24 / pclass_2) * 100  # error rate for the benign cells --- error_B = (error_24 / pclass_2) * 100 %\n",
    "    error_M = (error_42 / pclass_4) * 100 # error rate for the malign cells --- error_M = (error_42 / pclass_4) * 100 %\n",
    "    error_T = (error_all / class_all) * 100 # total error rate --- error_T = (error_all) / (class_all) * 100 %\n",
    "    \n",
    "    # declare results by metric\n",
    "    print('\\nData points in Predicted Class 2:', pclass_2)\n",
    "    print('Data points in Predicted Class 4:', pclass_4)\n",
    "    print('\\nError data points, Predicted Class 2:')\n",
    "    print(error24_df)\n",
    "    print('\\nError data points, Predicted Class 4:')\n",
    "    print(error42_df)\n",
    "    print('\\nNumber of all data points:\\t', class_all)\n",
    "    print('\\nNumber of error points:\\t\\t', error_24 + error_42)\n",
    "    print('\\nError rate for class 2:\\t\\t', round(error_B, 1),'%')\n",
    "    print('Error rate for class 2:\\t\\t', round(error_M, 1),'%')\n",
    "    print('Total error rate:\\t\\t', round(error_T, 1),'%')\n",
    "\n",
    "main3()"
   ]
  }
 ],
 "metadata": {
  "kernelspec": {
   "display_name": "Python 3 (ipykernel)",
   "language": "python",
   "name": "python3"
  },
  "language_info": {
   "codemirror_mode": {
    "name": "ipython",
    "version": 3
   },
   "file_extension": ".py",
   "mimetype": "text/x-python",
   "name": "python",
   "nbconvert_exporter": "python",
   "pygments_lexer": "ipython3",
   "version": "3.9.7"
  }
 },
 "nbformat": 4,
 "nbformat_minor": 5
}
